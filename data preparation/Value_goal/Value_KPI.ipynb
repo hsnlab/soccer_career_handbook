{
 "cells": [
  {
   "cell_type": "code",
   "execution_count": 1,
   "metadata": {
    "colab": {
     "base_uri": "https://localhost:8080/"
    },
    "id": "4tJwk0YjUal3",
    "outputId": "76e06f74-3add-4baa-ca2a-8d1a7d8f4cad"
   },
   "outputs": [
    {
     "name": "stdout",
     "output_type": "stream",
     "text": [
      "Collecting category_encoders\n",
      "  Downloading category_encoders-2.3.0-py2.py3-none-any.whl (82 kB)\n",
      "\u001b[?25l\r",
      "\u001b[K     |████                            | 10 kB 24.9 MB/s eta 0:00:01\r",
      "\u001b[K     |████████                        | 20 kB 24.9 MB/s eta 0:00:01\r",
      "\u001b[K     |████████████                    | 30 kB 11.4 MB/s eta 0:00:01\r",
      "\u001b[K     |████████████████                | 40 kB 9.2 MB/s eta 0:00:01\r",
      "\u001b[K     |████████████████████            | 51 kB 5.3 MB/s eta 0:00:01\r",
      "\u001b[K     |████████████████████████        | 61 kB 5.8 MB/s eta 0:00:01\r",
      "\u001b[K     |████████████████████████████    | 71 kB 5.6 MB/s eta 0:00:01\r",
      "\u001b[K     |███████████████████████████████▉| 81 kB 6.1 MB/s eta 0:00:01\r",
      "\u001b[K     |████████████████████████████████| 82 kB 352 kB/s \n",
      "\u001b[?25hRequirement already satisfied: pandas>=0.21.1 in /usr/local/lib/python3.7/dist-packages (from category_encoders) (1.1.5)\n",
      "Requirement already satisfied: numpy>=1.14.0 in /usr/local/lib/python3.7/dist-packages (from category_encoders) (1.19.5)\n",
      "Requirement already satisfied: scipy>=1.0.0 in /usr/local/lib/python3.7/dist-packages (from category_encoders) (1.4.1)\n",
      "Requirement already satisfied: scikit-learn>=0.20.0 in /usr/local/lib/python3.7/dist-packages (from category_encoders) (0.22.2.post1)\n",
      "Requirement already satisfied: patsy>=0.5.1 in /usr/local/lib/python3.7/dist-packages (from category_encoders) (0.5.2)\n",
      "Requirement already satisfied: statsmodels>=0.9.0 in /usr/local/lib/python3.7/dist-packages (from category_encoders) (0.10.2)\n",
      "Requirement already satisfied: python-dateutil>=2.7.3 in /usr/local/lib/python3.7/dist-packages (from pandas>=0.21.1->category_encoders) (2.8.2)\n",
      "Requirement already satisfied: pytz>=2017.2 in /usr/local/lib/python3.7/dist-packages (from pandas>=0.21.1->category_encoders) (2018.9)\n",
      "Requirement already satisfied: six in /usr/local/lib/python3.7/dist-packages (from patsy>=0.5.1->category_encoders) (1.15.0)\n",
      "Requirement already satisfied: joblib>=0.11 in /usr/local/lib/python3.7/dist-packages (from scikit-learn>=0.20.0->category_encoders) (1.0.1)\n",
      "Installing collected packages: category-encoders\n",
      "Successfully installed category-encoders-2.3.0\n"
     ]
    }
   ],
   "source": [
    "!pip install category_encoders"
   ]
  },
  {
   "cell_type": "code",
   "execution_count": 2,
   "metadata": {
    "colab": {
     "base_uri": "https://localhost:8080/"
    },
    "id": "kMq5FTsxUK8d",
    "outputId": "7e52768c-224e-4faa-fe0d-329a5d66775d"
   },
   "outputs": [
    {
     "name": "stderr",
     "output_type": "stream",
     "text": [
      "/usr/local/lib/python3.7/dist-packages/statsmodels/tools/_testing.py:19: FutureWarning: pandas.util.testing is deprecated. Use the functions in the public API at pandas.testing instead.\n",
      "  import pandas.util.testing as tm\n",
      "/usr/local/lib/python3.7/dist-packages/sklearn/externals/six.py:31: FutureWarning: The module is deprecated in version 0.21 and will be removed in version 0.23 since we've dropped support for Python 2.7. Please rely on the official version of six (https://pypi.org/project/six/).\n",
      "  \"(https://pypi.org/project/six/).\", FutureWarning)\n",
      "/usr/local/lib/python3.7/dist-packages/sklearn/utils/deprecation.py:144: FutureWarning: The sklearn.neighbors.base module is  deprecated in version 0.22 and will be removed in version 0.24. The corresponding classes / functions should instead be imported from sklearn.neighbors. Anything that cannot be imported from sklearn.neighbors is now part of the private API.\n",
      "  warnings.warn(message, FutureWarning)\n"
     ]
    }
   ],
   "source": [
    "#import packages\n",
    "import pandas as pd\n",
    "import matplotlib.pyplot as plt\n",
    "import numpy as np\n",
    "import seaborn as sn\n",
    "import category_encoders as ce\n",
    "from sklearn.experimental import enable_iterative_imputer\n",
    "from sklearn.impute import IterativeImputer\n",
    "from sklearn.preprocessing import StandardScaler\n",
    "from xgboost import XGBClassifier\n",
    "from sklearn.model_selection import RepeatedStratifiedKFold\n",
    "from sklearn.model_selection import cross_validate, cross_val_predict\n",
    "from sklearn.metrics import make_scorer\n",
    "from sklearn.metrics import recall_score, precision_score, f1_score\n",
    "from sklearn.metrics import roc_auc_score\n",
    "from sklearn.metrics import accuracy_score\n",
    "from numpy import mean\n",
    "from sklearn.metrics import confusion_matrix\n",
    "from sklearn.model_selection import train_test_split\n",
    "import operator\n",
    "import itertools\n",
    "import operator\n",
    "from itertools import islice\n",
    "import glob\n",
    "import os\n",
    "from sklearn.model_selection import train_test_split\n",
    "from sklearn.ensemble import GradientBoostingClassifier\n",
    "from sklearn.metrics import accuracy_score\n",
    "from sklearn.metrics import confusion_matrix\n",
    "from numpy import mean\n",
    "from numpy import std\n",
    "from sklearn.datasets import make_classification\n",
    "from sklearn.model_selection import cross_val_score\n",
    "from sklearn.model_selection import RepeatedStratifiedKFold\n",
    "from sklearn.model_selection import cross_val_predict\n",
    "from sklearn.model_selection import cross_validate\n",
    "from sklearn.ensemble import AdaBoostClassifier\n",
    "from sklearn.ensemble import RandomForestClassifier\n",
    "from sklearn.ensemble import BaggingClassifier\n",
    "from xgboost import XGBClassifier\n",
    "from sklearn import metrics\n",
    "from sklearn import svm\n",
    "from sklearn.linear_model import LogisticRegression\n",
    "from sklearn.feature_selection import RFE\n",
    "from sklearn.tree import DecisionTreeClassifier\n",
    "from sklearn.pipeline import Pipeline\n",
    "from sklearn.model_selection import GridSearchCV\n",
    "import category_encoders as ce\n",
    "from sklearn.experimental import enable_iterative_imputer\n",
    "from sklearn.impute import IterativeImputer\n",
    "from sklearn.preprocessing import StandardScaler\n",
    "from sklearn.naive_bayes import GaussianNB \n",
    "from sklearn.naive_bayes import BernoulliNB\n",
    "from sklearn.linear_model import RidgeClassifier\n",
    "from sklearn.tree import DecisionTreeRegressor\n",
    "from sklearn.ensemble import ExtraTreesRegressor\n",
    "from sklearn.neighbors import KNeighborsRegressor\n",
    "from sklearn.preprocessing import MinMaxScaler\n",
    "from sklearn import linear_model\n",
    "from sklearn.metrics import roc_curve\n",
    "from sklearn.metrics import confusion_matrix\n",
    "from imblearn.over_sampling import SVMSMOTE\n",
    "from imblearn.over_sampling import BorderlineSMOTE\n",
    "from imblearn.over_sampling import ADASYN"
   ]
  },
  {
   "cell_type": "code",
   "execution_count": 5,
   "metadata": {
    "id": "aph2yxfPUuvL"
   },
   "outputs": [],
   "source": [
    "data = pd.read_excel('data-2-2-3.xlsx')\n",
    "del data['Unnamed: 0']\n",
    "data = data.rename(columns={'TOTS.1': 'TOTS_Teammates'})"
   ]
  },
  {
   "cell_type": "code",
   "execution_count": 6,
   "metadata": {
    "colab": {
     "base_uri": "https://localhost:8080/"
    },
    "id": "fXzFfUJ_X3Aq",
    "outputId": "b76fd771-30db-4aee-d03b-80d8c77cd7f8"
   },
   "outputs": [
    {
     "name": "stdout",
     "output_type": "stream",
     "text": [
      "<class 'pandas.core.frame.DataFrame'>\n",
      "RangeIndex: 92120 entries, 0 to 92119\n",
      "Data columns (total 63 columns):\n",
      " #   Column              Non-Null Count  Dtype  \n",
      "---  ------              --------------  -----  \n",
      " 0   ID                  92120 non-null  int64  \n",
      " 1   Name                92120 non-null  object \n",
      " 2   Age                 92120 non-null  int64  \n",
      " 3   Height_cm           92120 non-null  int64  \n",
      " 4   Weight_kg           92120 non-null  int64  \n",
      " 5   Country             92120 non-null  object \n",
      " 6   Club                92120 non-null  object \n",
      " 7   League              92120 non-null  object \n",
      " 8   Division            92120 non-null  int64  \n",
      " 9   Joined              92120 non-null  object \n",
      " 10  Position            92120 non-null  object \n",
      " 11  Foot                92120 non-null  object \n",
      " 12  IntReputation       92120 non-null  int64  \n",
      " 13  Crossing            92120 non-null  int64  \n",
      " 14  Finishing           92120 non-null  int64  \n",
      " 15  Heading_accuracy    92120 non-null  int64  \n",
      " 16  Short_passing       92120 non-null  int64  \n",
      " 17  Volleys             92120 non-null  int64  \n",
      " 18  Dribbling           92120 non-null  int64  \n",
      " 19  Curve               92120 non-null  int64  \n",
      " 20  FK_accuracy         92120 non-null  int64  \n",
      " 21  Long_passing        92120 non-null  int64  \n",
      " 22  Ball_control        92120 non-null  int64  \n",
      " 23  Acceleration        92120 non-null  int64  \n",
      " 24  Sprint_speed        92120 non-null  int64  \n",
      " 25  Agility             92120 non-null  int64  \n",
      " 26  Reactions           92120 non-null  int64  \n",
      " 27  Balance             92120 non-null  int64  \n",
      " 28  Shot_power          92120 non-null  int64  \n",
      " 29  Jumping             92120 non-null  int64  \n",
      " 30  Stamina             92120 non-null  int64  \n",
      " 31  Strength            92120 non-null  int64  \n",
      " 32  Long_shots          92120 non-null  int64  \n",
      " 33  Aggression          92120 non-null  int64  \n",
      " 34  Interceptions       92120 non-null  int64  \n",
      " 35  Positioning         92120 non-null  int64  \n",
      " 36  Vision              92120 non-null  int64  \n",
      " 37  Penalties           92120 non-null  int64  \n",
      " 38  Marking             92120 non-null  int64  \n",
      " 39  Standing_tackle     92120 non-null  int64  \n",
      " 40  Sliding_tackle      92120 non-null  int64  \n",
      " 41  GK_diving           92120 non-null  int64  \n",
      " 42  GK_handling         92120 non-null  int64  \n",
      " 43  GK_kicking          92120 non-null  int64  \n",
      " 44  GK_positioning      92120 non-null  int64  \n",
      " 45  GK_reflexes         92120 non-null  int64  \n",
      " 46  Value               92120 non-null  float64\n",
      " 47  IsNational          92120 non-null  int64  \n",
      " 48  TOTS                92120 non-null  int64  \n",
      " 49  DEGREE              92120 non-null  int64  \n",
      " 50  Eigv                92120 non-null  float64\n",
      " 51  National_teammates  92120 non-null  int64  \n",
      " 52  TOTS_teammates      92120 non-null  int64  \n",
      " 53  Year                92120 non-null  int64  \n",
      " 54  Skill1              92120 non-null  int64  \n",
      " 55  Skill2              92120 non-null  int64  \n",
      " 56  Skill3              92120 non-null  int64  \n",
      " 57  Skill4              92120 non-null  int64  \n",
      " 58  Skill5              92120 non-null  int64  \n",
      " 59  KPI_IsNational      92120 non-null  float64\n",
      " 60  KPI_IsTOTS          92120 non-null  float64\n",
      " 61  KPI_Skill1          92120 non-null  float64\n",
      " 62  KPI_IsPL            92120 non-null  float64\n",
      "dtypes: float64(6), int64(50), object(7)\n",
      "memory usage: 44.3+ MB\n"
     ]
    }
   ],
   "source": [
    "data.info()"
   ]
  },
  {
   "cell_type": "code",
   "execution_count": 7,
   "metadata": {
    "id": "uueryyIFVr8N"
   },
   "outputs": [],
   "source": [
    "check_df = data[['Country', 'IsNational']].drop_duplicates()['Country'].value_counts()"
   ]
  },
  {
   "cell_type": "code",
   "execution_count": 8,
   "metadata": {
    "id": "_9C3AT9ZVsIL"
   },
   "outputs": [],
   "source": [
    "to_del = check_df[check_df == 1].index"
   ]
  },
  {
   "cell_type": "code",
   "execution_count": 9,
   "metadata": {
    "id": "Cb2kh9HpVsNY"
   },
   "outputs": [],
   "source": [
    "data = data[~data.Country.isin(to_del)]"
   ]
  },
  {
   "cell_type": "code",
   "execution_count": 10,
   "metadata": {
    "colab": {
     "base_uri": "https://localhost:8080/"
    },
    "id": "TH76DV1LVsTt",
    "outputId": "67e0818d-b3b7-4898-c47b-8fa944bdde53"
   },
   "outputs": [
    {
     "name": "stdout",
     "output_type": "stream",
     "text": [
      "<class 'pandas.core.frame.DataFrame'>\n",
      "Int64Index: 92120 entries, 0 to 92119\n",
      "Data columns (total 63 columns):\n",
      " #   Column              Non-Null Count  Dtype  \n",
      "---  ------              --------------  -----  \n",
      " 0   ID                  92120 non-null  int64  \n",
      " 1   Name                92120 non-null  object \n",
      " 2   Age                 92120 non-null  int64  \n",
      " 3   Height_cm           92120 non-null  int64  \n",
      " 4   Weight_kg           92120 non-null  int64  \n",
      " 5   Country             92120 non-null  object \n",
      " 6   Club                92120 non-null  object \n",
      " 7   League              92120 non-null  object \n",
      " 8   Division            92120 non-null  int64  \n",
      " 9   Joined              92120 non-null  object \n",
      " 10  Position            92120 non-null  object \n",
      " 11  Foot                92120 non-null  object \n",
      " 12  IntReputation       92120 non-null  int64  \n",
      " 13  Crossing            92120 non-null  int64  \n",
      " 14  Finishing           92120 non-null  int64  \n",
      " 15  Heading_accuracy    92120 non-null  int64  \n",
      " 16  Short_passing       92120 non-null  int64  \n",
      " 17  Volleys             92120 non-null  int64  \n",
      " 18  Dribbling           92120 non-null  int64  \n",
      " 19  Curve               92120 non-null  int64  \n",
      " 20  FK_accuracy         92120 non-null  int64  \n",
      " 21  Long_passing        92120 non-null  int64  \n",
      " 22  Ball_control        92120 non-null  int64  \n",
      " 23  Acceleration        92120 non-null  int64  \n",
      " 24  Sprint_speed        92120 non-null  int64  \n",
      " 25  Agility             92120 non-null  int64  \n",
      " 26  Reactions           92120 non-null  int64  \n",
      " 27  Balance             92120 non-null  int64  \n",
      " 28  Shot_power          92120 non-null  int64  \n",
      " 29  Jumping             92120 non-null  int64  \n",
      " 30  Stamina             92120 non-null  int64  \n",
      " 31  Strength            92120 non-null  int64  \n",
      " 32  Long_shots          92120 non-null  int64  \n",
      " 33  Aggression          92120 non-null  int64  \n",
      " 34  Interceptions       92120 non-null  int64  \n",
      " 35  Positioning         92120 non-null  int64  \n",
      " 36  Vision              92120 non-null  int64  \n",
      " 37  Penalties           92120 non-null  int64  \n",
      " 38  Marking             92120 non-null  int64  \n",
      " 39  Standing_tackle     92120 non-null  int64  \n",
      " 40  Sliding_tackle      92120 non-null  int64  \n",
      " 41  GK_diving           92120 non-null  int64  \n",
      " 42  GK_handling         92120 non-null  int64  \n",
      " 43  GK_kicking          92120 non-null  int64  \n",
      " 44  GK_positioning      92120 non-null  int64  \n",
      " 45  GK_reflexes         92120 non-null  int64  \n",
      " 46  Value               92120 non-null  float64\n",
      " 47  IsNational          92120 non-null  int64  \n",
      " 48  TOTS                92120 non-null  int64  \n",
      " 49  DEGREE              92120 non-null  int64  \n",
      " 50  Eigv                92120 non-null  float64\n",
      " 51  National_teammates  92120 non-null  int64  \n",
      " 52  TOTS_teammates      92120 non-null  int64  \n",
      " 53  Year                92120 non-null  int64  \n",
      " 54  Skill1              92120 non-null  int64  \n",
      " 55  Skill2              92120 non-null  int64  \n",
      " 56  Skill3              92120 non-null  int64  \n",
      " 57  Skill4              92120 non-null  int64  \n",
      " 58  Skill5              92120 non-null  int64  \n",
      " 59  KPI_IsNational      92120 non-null  float64\n",
      " 60  KPI_IsTOTS          92120 non-null  float64\n",
      " 61  KPI_Skill1          92120 non-null  float64\n",
      " 62  KPI_IsPL            92120 non-null  float64\n",
      "dtypes: float64(6), int64(50), object(7)\n",
      "memory usage: 45.0+ MB\n"
     ]
    }
   ],
   "source": [
    "data.info()"
   ]
  },
  {
   "cell_type": "code",
   "execution_count": 11,
   "metadata": {
    "id": "uFFL4JLG6W5V"
   },
   "outputs": [],
   "source": [
    "data = data.fillna(0)"
   ]
  },
  {
   "cell_type": "code",
   "execution_count": 12,
   "metadata": {
    "id": "2QECmf7NjO2J"
   },
   "outputs": [],
   "source": [
    "#INFLACIO SZÁMOLÁS\n",
    "rates=[]\n",
    "years = [*range(2012,2020)]\n",
    "\n",
    "    \n",
    "for j in range(8):\n",
    "    rates.append(np.percentile(data['Value'].loc[data['Year'] == 2019],50)/np.percentile(data['Value'].loc[data['Year'] == years[j]],50))\n",
    "    \n",
    "for k in range(8):\n",
    "    data.loc[data['Year'] == years[k], 'modded'] = round(data['Value']*rates[k]).astype(int)\n",
    "  \n",
    "data['ln_mod'] = np.log10(data['modded'])\n",
    "data['normval']=data['ln_mod']/np.max(data['ln_mod'])"
   ]
  },
  {
   "cell_type": "code",
   "execution_count": 13,
   "metadata": {
    "colab": {
     "base_uri": "https://localhost:8080/"
    },
    "id": "zuszLCBXjPEP",
    "outputId": "5b36a765-86fc-4c26-f836-a44b62875ef5"
   },
   "outputs": [
    {
     "name": "stdout",
     "output_type": "stream",
     "text": [
      "<class 'pandas.core.frame.DataFrame'>\n",
      "Int64Index: 92120 entries, 0 to 92119\n",
      "Data columns (total 66 columns):\n",
      " #   Column              Non-Null Count  Dtype  \n",
      "---  ------              --------------  -----  \n",
      " 0   ID                  92120 non-null  int64  \n",
      " 1   Name                92120 non-null  object \n",
      " 2   Age                 92120 non-null  int64  \n",
      " 3   Height_cm           92120 non-null  int64  \n",
      " 4   Weight_kg           92120 non-null  int64  \n",
      " 5   Country             92120 non-null  object \n",
      " 6   Club                92120 non-null  object \n",
      " 7   League              92120 non-null  object \n",
      " 8   Division            92120 non-null  int64  \n",
      " 9   Joined              92120 non-null  object \n",
      " 10  Position            92120 non-null  object \n",
      " 11  Foot                92120 non-null  object \n",
      " 12  IntReputation       92120 non-null  int64  \n",
      " 13  Crossing            92120 non-null  int64  \n",
      " 14  Finishing           92120 non-null  int64  \n",
      " 15  Heading_accuracy    92120 non-null  int64  \n",
      " 16  Short_passing       92120 non-null  int64  \n",
      " 17  Volleys             92120 non-null  int64  \n",
      " 18  Dribbling           92120 non-null  int64  \n",
      " 19  Curve               92120 non-null  int64  \n",
      " 20  FK_accuracy         92120 non-null  int64  \n",
      " 21  Long_passing        92120 non-null  int64  \n",
      " 22  Ball_control        92120 non-null  int64  \n",
      " 23  Acceleration        92120 non-null  int64  \n",
      " 24  Sprint_speed        92120 non-null  int64  \n",
      " 25  Agility             92120 non-null  int64  \n",
      " 26  Reactions           92120 non-null  int64  \n",
      " 27  Balance             92120 non-null  int64  \n",
      " 28  Shot_power          92120 non-null  int64  \n",
      " 29  Jumping             92120 non-null  int64  \n",
      " 30  Stamina             92120 non-null  int64  \n",
      " 31  Strength            92120 non-null  int64  \n",
      " 32  Long_shots          92120 non-null  int64  \n",
      " 33  Aggression          92120 non-null  int64  \n",
      " 34  Interceptions       92120 non-null  int64  \n",
      " 35  Positioning         92120 non-null  int64  \n",
      " 36  Vision              92120 non-null  int64  \n",
      " 37  Penalties           92120 non-null  int64  \n",
      " 38  Marking             92120 non-null  int64  \n",
      " 39  Standing_tackle     92120 non-null  int64  \n",
      " 40  Sliding_tackle      92120 non-null  int64  \n",
      " 41  GK_diving           92120 non-null  int64  \n",
      " 42  GK_handling         92120 non-null  int64  \n",
      " 43  GK_kicking          92120 non-null  int64  \n",
      " 44  GK_positioning      92120 non-null  int64  \n",
      " 45  GK_reflexes         92120 non-null  int64  \n",
      " 46  Value               92120 non-null  float64\n",
      " 47  IsNational          92120 non-null  int64  \n",
      " 48  TOTS                92120 non-null  int64  \n",
      " 49  DEGREE              92120 non-null  int64  \n",
      " 50  Eigv                92120 non-null  float64\n",
      " 51  National_teammates  92120 non-null  int64  \n",
      " 52  TOTS_teammates      92120 non-null  int64  \n",
      " 53  Year                92120 non-null  int64  \n",
      " 54  Skill1              92120 non-null  int64  \n",
      " 55  Skill2              92120 non-null  int64  \n",
      " 56  Skill3              92120 non-null  int64  \n",
      " 57  Skill4              92120 non-null  int64  \n",
      " 58  Skill5              92120 non-null  int64  \n",
      " 59  KPI_IsNational      92120 non-null  float64\n",
      " 60  KPI_IsTOTS          92120 non-null  float64\n",
      " 61  KPI_Skill1          92120 non-null  float64\n",
      " 62  KPI_IsPL            92120 non-null  float64\n",
      " 63  modded              92120 non-null  float64\n",
      " 64  ln_mod              92120 non-null  float64\n",
      " 65  normval             92120 non-null  float64\n",
      "dtypes: float64(9), int64(50), object(7)\n",
      "memory usage: 49.6+ MB\n"
     ]
    }
   ],
   "source": [
    "data.info()"
   ]
  },
  {
   "cell_type": "code",
   "execution_count": 14,
   "metadata": {
    "colab": {
     "base_uri": "https://localhost:8080/",
     "height": 265
    },
    "id": "TVnahTJIjPjH",
    "outputId": "4f2b2bae-ef20-4e49-d2b6-ec8f02027237"
   },
   "outputs": [
    {
     "data": {
      "image/png": "[encoded data removed]",
      "text/plain": [
       "<Figure size 432x288 with 1 Axes>"
      ]
     },
     "metadata": {
      "needs_background": "light"
     },
     "output_type": "display_data"
    }
   ],
   "source": [
    "plt.hist(data.ln_mod)\n",
    "plt.show()"
   ]
  },
  {
   "cell_type": "code",
   "execution_count": 15,
   "metadata": {
    "id": "fq1mD2Ikh8jK"
   },
   "outputs": [],
   "source": [
    "data['target'] = 0\n",
    "data.loc[data.ln_mod >= 7, 'target'] = 1"
   ]
  },
  {
   "cell_type": "code",
   "execution_count": 16,
   "metadata": {
    "colab": {
     "base_uri": "https://localhost:8080/",
     "height": 669
    },
    "id": "VI4EEXgHiQWJ",
    "outputId": "787e8096-cb87-4d7e-df08-66e7c543ddeb"
   },
   "outputs": [
    {
     "data": {
      "text/html": [
       "<div>\n",
       "<style scoped>\n",
       "    .dataframe tbody tr th:only-of-type {\n",
       "        vertical-align: middle;\n",
       "    }\n",
       "\n",
       "    .dataframe tbody tr th {\n",
       "        vertical-align: top;\n",
       "    }\n",
       "\n",
       "    .dataframe thead th {\n",
       "        text-align: right;\n",
       "    }\n",
       "</style>\n",
       "<table border=\"1\" class=\"dataframe\">\n",
       "  <thead>\n",
       "    <tr style=\"text-align: right;\">\n",
       "      <th></th>\n",
       "      <th>Year</th>\n",
       "      <th>Value</th>\n",
       "      <th>ln_mod</th>\n",
       "    </tr>\n",
       "  </thead>\n",
       "  <tbody>\n",
       "    <tr>\n",
       "      <th>90075</th>\n",
       "      <td>2019</td>\n",
       "      <td>15000000.0</td>\n",
       "      <td>7.176091</td>\n",
       "    </tr>\n",
       "    <tr>\n",
       "      <th>90206</th>\n",
       "      <td>2019</td>\n",
       "      <td>70000000.0</td>\n",
       "      <td>7.845098</td>\n",
       "    </tr>\n",
       "    <tr>\n",
       "      <th>90433</th>\n",
       "      <td>2019</td>\n",
       "      <td>10000000.0</td>\n",
       "      <td>7.000000</td>\n",
       "    </tr>\n",
       "    <tr>\n",
       "      <th>90440</th>\n",
       "      <td>2019</td>\n",
       "      <td>14000000.0</td>\n",
       "      <td>7.146128</td>\n",
       "    </tr>\n",
       "    <tr>\n",
       "      <th>90598</th>\n",
       "      <td>2019</td>\n",
       "      <td>15000000.0</td>\n",
       "      <td>7.176091</td>\n",
       "    </tr>\n",
       "    <tr>\n",
       "      <th>90696</th>\n",
       "      <td>2019</td>\n",
       "      <td>10000000.0</td>\n",
       "      <td>7.000000</td>\n",
       "    </tr>\n",
       "    <tr>\n",
       "      <th>90754</th>\n",
       "      <td>2019</td>\n",
       "      <td>12000000.0</td>\n",
       "      <td>7.079181</td>\n",
       "    </tr>\n",
       "    <tr>\n",
       "      <th>90781</th>\n",
       "      <td>2019</td>\n",
       "      <td>10000000.0</td>\n",
       "      <td>7.000000</td>\n",
       "    </tr>\n",
       "    <tr>\n",
       "      <th>90985</th>\n",
       "      <td>2019</td>\n",
       "      <td>11000000.0</td>\n",
       "      <td>7.041393</td>\n",
       "    </tr>\n",
       "    <tr>\n",
       "      <th>91020</th>\n",
       "      <td>2019</td>\n",
       "      <td>20000000.0</td>\n",
       "      <td>7.301030</td>\n",
       "    </tr>\n",
       "    <tr>\n",
       "      <th>91269</th>\n",
       "      <td>2019</td>\n",
       "      <td>10000000.0</td>\n",
       "      <td>7.000000</td>\n",
       "    </tr>\n",
       "    <tr>\n",
       "      <th>91367</th>\n",
       "      <td>2019</td>\n",
       "      <td>15000000.0</td>\n",
       "      <td>7.176091</td>\n",
       "    </tr>\n",
       "    <tr>\n",
       "      <th>91567</th>\n",
       "      <td>2019</td>\n",
       "      <td>10000000.0</td>\n",
       "      <td>7.000000</td>\n",
       "    </tr>\n",
       "    <tr>\n",
       "      <th>91583</th>\n",
       "      <td>2019</td>\n",
       "      <td>10000000.0</td>\n",
       "      <td>7.000000</td>\n",
       "    </tr>\n",
       "    <tr>\n",
       "      <th>91595</th>\n",
       "      <td>2019</td>\n",
       "      <td>30000000.0</td>\n",
       "      <td>7.477121</td>\n",
       "    </tr>\n",
       "    <tr>\n",
       "      <th>91601</th>\n",
       "      <td>2019</td>\n",
       "      <td>10000000.0</td>\n",
       "      <td>7.000000</td>\n",
       "    </tr>\n",
       "    <tr>\n",
       "      <th>91643</th>\n",
       "      <td>2019</td>\n",
       "      <td>15000000.0</td>\n",
       "      <td>7.176091</td>\n",
       "    </tr>\n",
       "    <tr>\n",
       "      <th>91683</th>\n",
       "      <td>2019</td>\n",
       "      <td>10000000.0</td>\n",
       "      <td>7.000000</td>\n",
       "    </tr>\n",
       "    <tr>\n",
       "      <th>91737</th>\n",
       "      <td>2019</td>\n",
       "      <td>10000000.0</td>\n",
       "      <td>7.000000</td>\n",
       "    </tr>\n",
       "    <tr>\n",
       "      <th>91995</th>\n",
       "      <td>2019</td>\n",
       "      <td>15000000.0</td>\n",
       "      <td>7.176091</td>\n",
       "    </tr>\n",
       "  </tbody>\n",
       "</table>\n",
       "</div>"
      ],
      "text/plain": [
       "       Year       Value    ln_mod\n",
       "90075  2019  15000000.0  7.176091\n",
       "90206  2019  70000000.0  7.845098\n",
       "90433  2019  10000000.0  7.000000\n",
       "90440  2019  14000000.0  7.146128\n",
       "90598  2019  15000000.0  7.176091\n",
       "90696  2019  10000000.0  7.000000\n",
       "90754  2019  12000000.0  7.079181\n",
       "90781  2019  10000000.0  7.000000\n",
       "90985  2019  11000000.0  7.041393\n",
       "91020  2019  20000000.0  7.301030\n",
       "91269  2019  10000000.0  7.000000\n",
       "91367  2019  15000000.0  7.176091\n",
       "91567  2019  10000000.0  7.000000\n",
       "91583  2019  10000000.0  7.000000\n",
       "91595  2019  30000000.0  7.477121\n",
       "91601  2019  10000000.0  7.000000\n",
       "91643  2019  15000000.0  7.176091\n",
       "91683  2019  10000000.0  7.000000\n",
       "91737  2019  10000000.0  7.000000\n",
       "91995  2019  15000000.0  7.176091"
      ]
     },
     "execution_count": 16,
     "metadata": {},
     "output_type": "execute_result"
    }
   ],
   "source": [
    "data[data.ln_mod >= 7].tail(20)[['Year', 'Value', 'ln_mod']]"
   ]
  },
  {
   "cell_type": "code",
   "execution_count": 17,
   "metadata": {
    "id": "B-2o0YjfVsfA"
   },
   "outputs": [],
   "source": [
    "feature_list = ['Country', 'League', 'Division', 'Position', 'DEGREE', 'Eigv', 'National_teammates', 'TOTS_teammates', 'TOTS', 'Skill1', 'Skill2', 'Skill3', 'Skill4', 'Skill5', 'IsNational']\n",
    "target = 'target'\n",
    "\n",
    "X = data[feature_list]\n",
    "y = data[target]"
   ]
  },
  {
   "cell_type": "code",
   "execution_count": 18,
   "metadata": {
    "colab": {
     "base_uri": "https://localhost:8080/"
    },
    "id": "TabQiuEXiNAx",
    "outputId": "c734bb3b-cfeb-4083-cd56-b4eee05e599d"
   },
   "outputs": [
    {
     "data": {
      "text/plain": [
       "0    87655\n",
       "1     4465\n",
       "Name: target, dtype: int64"
      ]
     },
     "execution_count": 18,
     "metadata": {},
     "output_type": "execute_result"
    }
   ],
   "source": [
    "data[target].value_counts()"
   ]
  },
  {
   "cell_type": "code",
   "execution_count": 19,
   "metadata": {
    "id": "EwuuYdGQZHN1"
   },
   "outputs": [],
   "source": [
    "#Encoding the categorival variables using target encoding\n",
    "cbe_encoder = ce.cat_boost.CatBoostEncoder()\n",
    "X_imp = cbe_encoder.fit_transform(X,y)\n",
    "\n",
    "#Standardization \n",
    "scaler = StandardScaler()\n",
    "X_imp_st = scaler.fit_transform(X_imp)\n",
    "X_imp_st = pd.DataFrame(data = X_imp_st, columns=X_imp.columns)\n",
    "\n",
    "#Normalization\n",
    "transformer = MinMaxScaler()\n",
    "X_imp_st_n = transformer.fit_transform(X_imp_st)\n",
    "X_imp_st_n = pd.DataFrame(data = X_imp_st_n, columns=X_imp_st.columns)"
   ]
  },
  {
   "cell_type": "code",
   "execution_count": 20,
   "metadata": {
    "id": "xbV6veFmZHRm"
   },
   "outputs": [],
   "source": [
    "#Create metric df to save model results\n",
    "metric_df = pd.DataFrame(columns=['model','fit_time','score_time', 'acc', 'recall', 'auc', 'precision', 'f1'])"
   ]
  },
  {
   "cell_type": "code",
   "execution_count": 21,
   "metadata": {
    "id": "oQWd6a00ZHX6"
   },
   "outputs": [],
   "source": [
    "# define the model\n",
    "model = XGBClassifier(n_estimators=50)\n",
    "\n",
    "# define the evaluation method\n",
    "cv = RepeatedStratifiedKFold(n_splits=10, n_repeats=2, random_state=1)\n",
    "\n",
    "#scoring params\n",
    "scoring = {'acc': 'accuracy',\n",
    "           'recall': 'recall',\n",
    "           'auc': 'roc_auc',\n",
    "           'precison': 'precision',\n",
    "           'f1': 'f1'}\n",
    "\n",
    "# evaluate the model on the dataset\n",
    "n_scores = cross_validate(model, X_imp_st_n, y, scoring=scoring, cv=cv, n_jobs=-1, return_train_score= False)\n",
    "\n",
    "to_add = []\n",
    "to_add.append(model)\n",
    "# report performance\n",
    "for key, value in n_scores.items():\n",
    "    to_add.append(mean(value))\n",
    "    #print(key, mean(value))\n",
    "\n",
    "metric_df = metric_df.append(pd.DataFrame(np.array(to_add).reshape(1,-1), columns=list(metric_df.columns)), ignore_index=True)"
   ]
  },
  {
   "cell_type": "code",
   "execution_count": 22,
   "metadata": {
    "id": "ps1qYL_EZHcL"
   },
   "outputs": [],
   "source": [
    "# define the model\n",
    "model = AdaBoostClassifier(n_estimators=50)\n",
    "\n",
    "# define the evaluation method\n",
    "cv = RepeatedStratifiedKFold(n_splits=10, n_repeats=2, random_state=1)\n",
    "\n",
    "#scoring params\n",
    "scoring = {'acc': 'accuracy',\n",
    "           'recall': 'recall',\n",
    "           'auc': 'roc_auc',\n",
    "           'precison': 'precision',\n",
    "           'f1': 'f1'}\n",
    "\n",
    "# evaluate the model on the dataset\n",
    "n_scores = cross_validate(model, X_imp_st_n, y, scoring=scoring, cv=cv, n_jobs=-1, return_train_score= False)\n",
    "\n",
    "to_add = []\n",
    "to_add.append(model)\n",
    "# report performance\n",
    "for key, value in n_scores.items():\n",
    "    to_add.append(mean(value))\n",
    "    #print(key, mean(value))\n",
    "\n",
    "metric_df = metric_df.append(pd.DataFrame(np.array(to_add).reshape(1,-1), columns=list(metric_df.columns)), ignore_index=True)"
   ]
  },
  {
   "cell_type": "code",
   "execution_count": 23,
   "metadata": {
    "id": "KyBcsu--ZHfv"
   },
   "outputs": [],
   "source": [
    "# define the model\n",
    "model = GradientBoostingClassifier(n_estimators=50)\n",
    "\n",
    "# define the evaluation method\n",
    "cv = RepeatedStratifiedKFold(n_splits=10, n_repeats=2, random_state=1)\n",
    "\n",
    "#scoring params\n",
    "scoring = {'acc': 'accuracy',\n",
    "           'recall': 'recall',\n",
    "           'auc': 'roc_auc',\n",
    "           'precison': 'precision',\n",
    "           'f1': 'f1'}\n",
    "\n",
    "# evaluate the model on the dataset\n",
    "n_scores = cross_validate(model, X_imp_st_n, y, scoring=scoring, cv=cv, n_jobs=-1, return_train_score= False)\n",
    "\n",
    "to_add = []\n",
    "to_add.append(model)\n",
    "# report performance\n",
    "for key, value in n_scores.items():\n",
    "    to_add.append(mean(value))\n",
    "    #print(key, mean(value))\n",
    "\n",
    "metric_df = metric_df.append(pd.DataFrame(np.array(to_add).reshape(1,-1), columns=list(metric_df.columns)), ignore_index=True)"
   ]
  },
  {
   "cell_type": "code",
   "execution_count": 24,
   "metadata": {
    "id": "cXJh-jNoZHkN"
   },
   "outputs": [],
   "source": [
    "# define the model\n",
    "model = RandomForestClassifier(n_estimators=50)\n",
    "\n",
    "# define the evaluation method\n",
    "cv = RepeatedStratifiedKFold(n_splits=10, n_repeats=2, random_state=1)\n",
    "\n",
    "#scoring params\n",
    "scoring = {'acc': 'accuracy',\n",
    "           'recall': 'recall',\n",
    "           'auc': 'roc_auc',\n",
    "           'precison': 'precision',\n",
    "           'f1': 'f1'}\n",
    "\n",
    "# evaluate the model on the dataset\n",
    "n_scores = cross_validate(model, X_imp_st_n, y, scoring=scoring, cv=cv, n_jobs=-1, return_train_score= False)\n",
    "\n",
    "to_add = []\n",
    "to_add.append(model)\n",
    "# report performance\n",
    "for key, value in n_scores.items():\n",
    "    to_add.append(mean(value))\n",
    "    #print(key, mean(value))\n",
    "\n",
    "metric_df = metric_df.append(pd.DataFrame(np.array(to_add).reshape(1,-1), columns=list(metric_df.columns)), ignore_index=True)"
   ]
  },
  {
   "cell_type": "code",
   "execution_count": 25,
   "metadata": {
    "id": "YAss1sXCZHn5"
   },
   "outputs": [],
   "source": [
    "# define the model\n",
    "model = BaggingClassifier(n_estimators=50)\n",
    "\n",
    "# define the evaluation method\n",
    "cv = RepeatedStratifiedKFold(n_splits=10, n_repeats=2, random_state=1)\n",
    "\n",
    "#scoring params\n",
    "scoring = {'acc': 'accuracy',\n",
    "           'recall': 'recall',\n",
    "           'auc': 'roc_auc',\n",
    "           'precison': 'precision',\n",
    "           'f1': 'f1'}\n",
    "\n",
    "# evaluate the model on the dataset\n",
    "n_scores = cross_validate(model, X_imp_st_n, y, scoring=scoring, cv=cv, n_jobs=-1, return_train_score= False)\n",
    "\n",
    "to_add = []\n",
    "to_add.append(model)\n",
    "# report performance\n",
    "for key, value in n_scores.items():\n",
    "    to_add.append(mean(value))\n",
    "    #print(key, mean(value))\n",
    "\n",
    "metric_df = metric_df.append(pd.DataFrame(np.array(to_add).reshape(1,-1), columns=list(metric_df.columns)), ignore_index=True)"
   ]
  },
  {
   "cell_type": "code",
   "execution_count": 26,
   "metadata": {
    "id": "DYv5KDOZZo1W"
   },
   "outputs": [],
   "source": [
    "# define the model\n",
    "model = LogisticRegression()\n",
    "\n",
    "# define the evaluation method\n",
    "cv = RepeatedStratifiedKFold(n_splits=10, n_repeats=2, random_state=1)\n",
    "\n",
    "#scoring params\n",
    "scoring = {'acc': 'accuracy',\n",
    "           'recall': 'recall',\n",
    "           'auc': 'roc_auc',\n",
    "           'precison': 'precision',\n",
    "           'f1': 'f1'}\n",
    "\n",
    "# evaluate the model on the dataset\n",
    "n_scores = cross_validate(model, X_imp_st_n, y, scoring=scoring, cv=cv, n_jobs=-1, return_train_score= False)\n",
    "\n",
    "to_add = []\n",
    "to_add.append(model)\n",
    "# report performance\n",
    "for key, value in n_scores.items():\n",
    "    to_add.append(mean(value))\n",
    "    #print(key, mean(value))\n",
    "\n",
    "metric_df = metric_df.append(pd.DataFrame(np.array(to_add).reshape(1,-1), columns=list(metric_df.columns)), ignore_index=True)"
   ]
  },
  {
   "cell_type": "code",
   "execution_count": 27,
   "metadata": {
    "id": "_LP_yplAZqAa"
   },
   "outputs": [],
   "source": [
    "# define the model\n",
    "model = GaussianNB()\n",
    "\n",
    "# define the evaluation method\n",
    "cv = RepeatedStratifiedKFold(n_splits=10, n_repeats=2, random_state=1)\n",
    "\n",
    "#scoring params\n",
    "scoring = {'acc': 'accuracy',\n",
    "           'recall': 'recall',\n",
    "           'auc': 'roc_auc',\n",
    "           'precison': 'precision',\n",
    "           'f1': 'f1'}\n",
    "\n",
    "# evaluate the model on the dataset\n",
    "n_scores = cross_validate(model, X_imp_st_n, y, scoring=scoring, cv=cv, n_jobs=-1, return_train_score= False)\n",
    "\n",
    "to_add = []\n",
    "to_add.append(model)\n",
    "# report performance\n",
    "for key, value in n_scores.items():\n",
    "    to_add.append(mean(value))\n",
    "    #print(key, mean(value))\n",
    "\n",
    "metric_df = metric_df.append(pd.DataFrame(np.array(to_add).reshape(1,-1), columns=list(metric_df.columns)), ignore_index=True)"
   ]
  },
  {
   "cell_type": "code",
   "execution_count": 30,
   "metadata": {
    "colab": {
     "base_uri": "https://localhost:8080/",
     "height": 266
    },
    "id": "JA-wuLSFZqNQ",
    "outputId": "6122b208-fee9-4731-d963-56d9359e9618"
   },
   "outputs": [
    {
     "data": {
      "text/html": [
       "<div>\n",
       "<style scoped>\n",
       "    .dataframe tbody tr th:only-of-type {\n",
       "        vertical-align: middle;\n",
       "    }\n",
       "\n",
       "    .dataframe tbody tr th {\n",
       "        vertical-align: top;\n",
       "    }\n",
       "\n",
       "    .dataframe thead th {\n",
       "        text-align: right;\n",
       "    }\n",
       "</style>\n",
       "<table border=\"1\" class=\"dataframe\">\n",
       "  <thead>\n",
       "    <tr style=\"text-align: right;\">\n",
       "      <th></th>\n",
       "      <th>model</th>\n",
       "      <th>fit_time</th>\n",
       "      <th>score_time</th>\n",
       "      <th>acc</th>\n",
       "      <th>recall</th>\n",
       "      <th>auc</th>\n",
       "      <th>precision</th>\n",
       "      <th>f1</th>\n",
       "    </tr>\n",
       "  </thead>\n",
       "  <tbody>\n",
       "    <tr>\n",
       "      <th>4</th>\n",
       "      <td>BaggingClassifier(base_estimator=None, bootstr...</td>\n",
       "      <td>40.0014</td>\n",
       "      <td>0.216264</td>\n",
       "      <td>0.977774</td>\n",
       "      <td>0.671901</td>\n",
       "      <td>0.981162</td>\n",
       "      <td>0.837811</td>\n",
       "      <td>0.745573</td>\n",
       "    </tr>\n",
       "    <tr>\n",
       "      <th>3</th>\n",
       "      <td>RandomForestClassifier(bootstrap=True, ccp_alp...</td>\n",
       "      <td>8.48091</td>\n",
       "      <td>0.176502</td>\n",
       "      <td>0.977708</td>\n",
       "      <td>0.653759</td>\n",
       "      <td>0.982965</td>\n",
       "      <td>0.852265</td>\n",
       "      <td>0.739763</td>\n",
       "    </tr>\n",
       "    <tr>\n",
       "      <th>2</th>\n",
       "      <td>GradientBoostingClassifier(ccp_alpha=0.0, crit...</td>\n",
       "      <td>15.2098</td>\n",
       "      <td>0.0411652</td>\n",
       "      <td>0.975228</td>\n",
       "      <td>0.648719</td>\n",
       "      <td>0.982568</td>\n",
       "      <td>0.802826</td>\n",
       "      <td>0.717393</td>\n",
       "    </tr>\n",
       "    <tr>\n",
       "      <th>0</th>\n",
       "      <td>XGBClassifier(base_score=0.5, booster='gbtree'...</td>\n",
       "      <td>5.08839</td>\n",
       "      <td>0.0560126</td>\n",
       "      <td>0.974528</td>\n",
       "      <td>0.610092</td>\n",
       "      <td>0.983105</td>\n",
       "      <td>0.818635</td>\n",
       "      <td>0.698957</td>\n",
       "    </tr>\n",
       "    <tr>\n",
       "      <th>5</th>\n",
       "      <td>LogisticRegression(C=1.0, class_weight=None, d...</td>\n",
       "      <td>1.29589</td>\n",
       "      <td>0.0236887</td>\n",
       "      <td>0.974061</td>\n",
       "      <td>0.619946</td>\n",
       "      <td>0.982186</td>\n",
       "      <td>0.800311</td>\n",
       "      <td>0.698531</td>\n",
       "    </tr>\n",
       "    <tr>\n",
       "      <th>1</th>\n",
       "      <td>AdaBoostClassifier(algorithm='SAMME.R', base_e...</td>\n",
       "      <td>7.00199</td>\n",
       "      <td>0.249577</td>\n",
       "      <td>0.973149</td>\n",
       "      <td>0.65858</td>\n",
       "      <td>0.983485</td>\n",
       "      <td>0.756683</td>\n",
       "      <td>0.703997</td>\n",
       "    </tr>\n",
       "    <tr>\n",
       "      <th>6</th>\n",
       "      <td>GaussianNB(priors=None, var_smoothing=1e-09)</td>\n",
       "      <td>0.0485143</td>\n",
       "      <td>0.0344547</td>\n",
       "      <td>0.920728</td>\n",
       "      <td>0.926655</td>\n",
       "      <td>0.967939</td>\n",
       "      <td>0.37257</td>\n",
       "      <td>0.531389</td>\n",
       "    </tr>\n",
       "  </tbody>\n",
       "</table>\n",
       "</div>"
      ],
      "text/plain": [
       "                                               model  ...        f1\n",
       "4  BaggingClassifier(base_estimator=None, bootstr...  ...  0.745573\n",
       "3  RandomForestClassifier(bootstrap=True, ccp_alp...  ...  0.739763\n",
       "2  GradientBoostingClassifier(ccp_alpha=0.0, crit...  ...  0.717393\n",
       "0  XGBClassifier(base_score=0.5, booster='gbtree'...  ...  0.698957\n",
       "5  LogisticRegression(C=1.0, class_weight=None, d...  ...  0.698531\n",
       "1  AdaBoostClassifier(algorithm='SAMME.R', base_e...  ...  0.703997\n",
       "6       GaussianNB(priors=None, var_smoothing=1e-09)  ...  0.531389\n",
       "\n",
       "[7 rows x 8 columns]"
      ]
     },
     "execution_count": 30,
     "metadata": {},
     "output_type": "execute_result"
    }
   ],
   "source": [
    "#Check model performances\n",
    "metric_df.sort_values(by = 'acc', ascending = False)"
   ]
  },
  {
   "cell_type": "code",
   "execution_count": 31,
   "metadata": {
    "id": "tIonBfKkjH1N"
   },
   "outputs": [],
   "source": [
    "X_train, X_test, y_train, y_test = train_test_split(X_imp_st_n, y, test_size=0.33, random_state=42)"
   ]
  },
  {
   "cell_type": "code",
   "execution_count": 32,
   "metadata": {
    "colab": {
     "base_uri": "https://localhost:8080/"
    },
    "id": "7aiUUGDIjfxZ",
    "outputId": "a171d037-b6c7-4c74-8c4e-28ba35308742"
   },
   "outputs": [
    {
     "name": "stdout",
     "output_type": "stream",
     "text": [
      "fit_time 5.772733819484711\n",
      "score_time 0.12931113243103026\n",
      "test_acc 0.9769766688269603\n",
      "test_recall 0.632453591606134\n",
      "test_auc 0.9811849834807358\n",
      "test_precison 0.8460599221541434\n",
      "test_f1 0.7234614616323792\n"
     ]
    }
   ],
   "source": [
    "# define the model\n",
    "model = RandomForestClassifier(n_estimators=50)\n",
    "\n",
    "# define the evaluation method\n",
    "cv = RepeatedStratifiedKFold(n_splits=10, n_repeats=2, random_state=1)\n",
    "\n",
    "#scoring params\n",
    "scoring = {'acc': 'accuracy',\n",
    "           'recall': 'recall',\n",
    "           'auc': 'roc_auc',\n",
    "           'precison': 'precision',\n",
    "           'f1': 'f1'}\n",
    "\n",
    "# evaluate the model on the dataset\n",
    "n_scores = cross_validate(model, X_train, y_train, scoring=scoring, cv=cv, n_jobs=-1, return_train_score= False)\n",
    "\n",
    "# report performance\n",
    "for key, value in n_scores.items():\n",
    "    print(key, mean(value))"
   ]
  },
  {
   "cell_type": "code",
   "execution_count": 33,
   "metadata": {
    "colab": {
     "base_uri": "https://localhost:8080/"
    },
    "id": "dVABpvmyjz1R",
    "outputId": "473cdf32-80b1-436b-8cac-2b64e6c4059d"
   },
   "outputs": [
    {
     "name": "stdout",
     "output_type": "stream",
     "text": [
      "0.8060639168724096\n"
     ]
    }
   ],
   "source": [
    "m = model.fit(X_train, y_train)\n",
    "y_pred = m.predict(X_test)\n",
    "print(roc_auc_score(y_test,y_pred))"
   ]
  },
  {
   "cell_type": "code",
   "execution_count": 34,
   "metadata": {
    "id": "q6HDebRAlcLb"
   },
   "outputs": [],
   "source": [
    "ns_fpr, ns_tpr, _ = roc_curve(y_test,y_pred)"
   ]
  },
  {
   "cell_type": "code",
   "execution_count": 48,
   "metadata": {
    "colab": {
     "base_uri": "https://localhost:8080/",
     "height": 296
    },
    "id": "zaxTNRFjlygU",
    "outputId": "481c14ee-a2f0-4434-9c40-b3be310aafd2"
   },
   "outputs": [
    {
     "name": "stderr",
     "output_type": "stream",
     "text": [
      "No handles with labels found to put in legend.\n"
     ]
    },
    {
     "data": {
      "image/png": "[encoded data removed]",
      "text/plain": [
       "<Figure size 432x288 with 1 Axes>"
      ]
     },
     "metadata": {
      "needs_background": "light"
     },
     "output_type": "display_data"
    }
   ],
   "source": [
    "# plot the roc curve for the model\n",
    "plt.plot(ns_fpr, ns_tpr, linestyle='--')\n",
    "plt.plot([0, 1], ls=\"--\")\n",
    "# axis labels\n",
    "plt.xlabel('False Positive Rate')\n",
    "plt.ylabel('True Positive Rate')\n",
    "# show the legend\n",
    "plt.legend()\n",
    "# show the plot\n",
    "plt.show()"
   ]
  },
  {
   "cell_type": "code",
   "execution_count": 35,
   "metadata": {
    "colab": {
     "base_uri": "https://localhost:8080/"
    },
    "id": "zisuKvSFmdxu",
    "outputId": "918d4087-c795-40b0-d822-eb2397bd8dac"
   },
   "outputs": [
    {
     "data": {
      "text/plain": [
       "array([[28709,   170],\n",
       "       [  581,   940]])"
      ]
     },
     "execution_count": 35,
     "metadata": {},
     "output_type": "execute_result"
    }
   ],
   "source": [
    "confusion_matrix(y_test, y_pred)"
   ]
  },
  {
   "cell_type": "code",
   "execution_count": 36,
   "metadata": {
    "id": "Ha_Mro9NVjPj"
   },
   "outputs": [],
   "source": [
    "##DIFFERENT ENCODING"
   ]
  },
  {
   "cell_type": "code",
   "execution_count": 37,
   "metadata": {
    "id": "B7lQ4Ac2VjsG"
   },
   "outputs": [],
   "source": [
    "#Create metric df to save model results\n",
    "encoding_metric_df = pd.DataFrame(columns=['encoder','fit_time','score_time', 'acc', 'recall', 'auc', 'precision', 'f1'])"
   ]
  },
  {
   "cell_type": "code",
   "execution_count": 38,
   "metadata": {
    "id": "vx9DX_bdVj8G"
   },
   "outputs": [],
   "source": [
    "#Encoding the categorival variables using target encoding\n",
    "cbe_encoder = ce.cat_boost.CatBoostEncoder()\n",
    "X_imp = cbe_encoder.fit_transform(X,y)\n",
    "\n",
    "#Standardization \n",
    "scaler = StandardScaler()\n",
    "X_imp_st = scaler.fit_transform(X_imp)\n",
    "X_imp_st = pd.DataFrame(data = X_imp_st, columns=X_imp.columns)\n",
    "\n",
    "#Normalization\n",
    "transformer = MinMaxScaler()\n",
    "X_imp_st_n = transformer.fit_transform(X_imp_st)\n",
    "X_imp_st_n = pd.DataFrame(data = X_imp_st_n, columns=X_imp_st.columns)\n",
    "\n",
    "# define the model\n",
    "model = RandomForestClassifier(n_estimators=50)\n",
    "\n",
    "# define the evaluation method\n",
    "cv = RepeatedStratifiedKFold(n_splits=10, n_repeats=2, random_state=1)\n",
    "\n",
    "#scoring params\n",
    "scoring = {'acc': 'accuracy',\n",
    "           'recall': 'recall',\n",
    "           'auc': 'roc_auc',\n",
    "           'precison': 'precision',\n",
    "           'f1': 'f1'}\n",
    "\n",
    "# evaluate the model on the dataset\n",
    "n_scores = cross_validate(model, X_imp_st_n, y, scoring=scoring, cv=cv, n_jobs=-1, return_train_score= False)\n",
    "\n",
    "to_add = []\n",
    "to_add.append(cbe_encoder)\n",
    "# report performance\n",
    "for key, value in n_scores.items():\n",
    "    to_add.append(mean(value))\n",
    "    #print(key, mean(value))\n",
    "\n",
    "encoding_metric_df = encoding_metric_df.append(pd.DataFrame(np.array(to_add).reshape(1,-1), columns=list(encoding_metric_df.columns)), ignore_index=True)"
   ]
  },
  {
   "cell_type": "code",
   "execution_count": 39,
   "metadata": {
    "id": "DgbwfLDMVkIY"
   },
   "outputs": [],
   "source": [
    "#Encoding the categorival variables using target encoding\n",
    "cbe_encoder = ce.MEstimateEncoder()\n",
    "X_imp = cbe_encoder.fit_transform(X,y)\n",
    "\n",
    "#Standardization \n",
    "scaler = StandardScaler()\n",
    "X_imp_st = scaler.fit_transform(X_imp)\n",
    "X_imp_st = pd.DataFrame(data = X_imp_st, columns=X_imp.columns)\n",
    "\n",
    "#Normalization\n",
    "transformer = MinMaxScaler()\n",
    "X_imp_st_n = transformer.fit_transform(X_imp_st)\n",
    "X_imp_st_n = pd.DataFrame(data = X_imp_st_n, columns=X_imp_st.columns)\n",
    "\n",
    "# define the model\n",
    "model = RandomForestClassifier(n_estimators=50)\n",
    "\n",
    "# define the evaluation method\n",
    "cv = RepeatedStratifiedKFold(n_splits=10, n_repeats=2, random_state=1)\n",
    "\n",
    "#scoring params\n",
    "scoring = {'acc': 'accuracy',\n",
    "           'recall': 'recall',\n",
    "           'auc': 'roc_auc',\n",
    "           'precison': 'precision',\n",
    "           'f1': 'f1'}\n",
    "\n",
    "# evaluate the model on the dataset\n",
    "n_scores = cross_validate(model, X_imp_st_n, y, scoring=scoring, cv=cv, n_jobs=-1, return_train_score= False)\n",
    "\n",
    "to_add = []\n",
    "to_add.append(cbe_encoder)\n",
    "# report performance\n",
    "for key, value in n_scores.items():\n",
    "    to_add.append(mean(value))\n",
    "    #print(key, mean(value))\n",
    "\n",
    "encoding_metric_df = encoding_metric_df.append(pd.DataFrame(np.array(to_add).reshape(1,-1), columns=list(encoding_metric_df.columns)), ignore_index=True)"
   ]
  },
  {
   "cell_type": "code",
   "execution_count": 40,
   "metadata": {
    "id": "ZsGishTjX4HX"
   },
   "outputs": [],
   "source": [
    "#Encoding the categorival variables using target encoding\n",
    "cbe_encoder = ce.JamesSteinEncoder()\n",
    "X_imp = cbe_encoder.fit_transform(X,y)\n",
    "\n",
    "#Standardization \n",
    "scaler = StandardScaler()\n",
    "X_imp_st = scaler.fit_transform(X_imp)\n",
    "X_imp_st = pd.DataFrame(data = X_imp_st, columns=X_imp.columns)\n",
    "\n",
    "#Normalization\n",
    "transformer = MinMaxScaler()\n",
    "X_imp_st_n = transformer.fit_transform(X_imp_st)\n",
    "X_imp_st_n = pd.DataFrame(data = X_imp_st_n, columns=X_imp_st.columns)\n",
    "\n",
    "# define the model\n",
    "model = RandomForestClassifier(n_estimators=50)\n",
    "\n",
    "# define the evaluation method\n",
    "cv = RepeatedStratifiedKFold(n_splits=10, n_repeats=2, random_state=1)\n",
    "\n",
    "#scoring params\n",
    "scoring = {'acc': 'accuracy',\n",
    "           'recall': 'recall',\n",
    "           'auc': 'roc_auc',\n",
    "           'precison': 'precision',\n",
    "           'f1': 'f1'}\n",
    "\n",
    "# evaluate the model on the dataset\n",
    "n_scores = cross_validate(model, X_imp_st_n, y, scoring=scoring, cv=cv, n_jobs=-1, return_train_score= False)\n",
    "\n",
    "to_add = []\n",
    "to_add.append(cbe_encoder)\n",
    "# report performance\n",
    "for key, value in n_scores.items():\n",
    "    to_add.append(mean(value))\n",
    "    #print(key, mean(value))\n",
    "\n",
    "encoding_metric_df = encoding_metric_df.append(pd.DataFrame(np.array(to_add).reshape(1,-1), columns=list(encoding_metric_df.columns)), ignore_index=True)"
   ]
  },
  {
   "cell_type": "code",
   "execution_count": 41,
   "metadata": {
    "colab": {
     "base_uri": "https://localhost:8080/",
     "height": 142
    },
    "id": "RmKwqQ8tax24",
    "outputId": "3caa2978-c1f3-48fa-8ce5-3038a51a55b5"
   },
   "outputs": [
    {
     "data": {
      "text/html": [
       "<div>\n",
       "<style scoped>\n",
       "    .dataframe tbody tr th:only-of-type {\n",
       "        vertical-align: middle;\n",
       "    }\n",
       "\n",
       "    .dataframe tbody tr th {\n",
       "        vertical-align: top;\n",
       "    }\n",
       "\n",
       "    .dataframe thead th {\n",
       "        text-align: right;\n",
       "    }\n",
       "</style>\n",
       "<table border=\"1\" class=\"dataframe\">\n",
       "  <thead>\n",
       "    <tr style=\"text-align: right;\">\n",
       "      <th></th>\n",
       "      <th>encoder</th>\n",
       "      <th>fit_time</th>\n",
       "      <th>score_time</th>\n",
       "      <th>acc</th>\n",
       "      <th>recall</th>\n",
       "      <th>auc</th>\n",
       "      <th>precision</th>\n",
       "      <th>f1</th>\n",
       "    </tr>\n",
       "  </thead>\n",
       "  <tbody>\n",
       "    <tr>\n",
       "      <th>0</th>\n",
       "      <td>CatBoostEncoder(a=1, cols=['Country', 'League'...</td>\n",
       "      <td>8.98413</td>\n",
       "      <td>0.188042</td>\n",
       "      <td>0.977524</td>\n",
       "      <td>0.65107</td>\n",
       "      <td>0.983194</td>\n",
       "      <td>0.850529</td>\n",
       "      <td>0.737378</td>\n",
       "    </tr>\n",
       "    <tr>\n",
       "      <th>1</th>\n",
       "      <td>MEstimateEncoder(cols=['Country', 'League', 'P...</td>\n",
       "      <td>6.251</td>\n",
       "      <td>0.190034</td>\n",
       "      <td>0.975754</td>\n",
       "      <td>0.622972</td>\n",
       "      <td>0.979541</td>\n",
       "      <td>0.835023</td>\n",
       "      <td>0.713364</td>\n",
       "    </tr>\n",
       "    <tr>\n",
       "      <th>2</th>\n",
       "      <td>JamesSteinEncoder(cols=['Country', 'League', '...</td>\n",
       "      <td>6.2143</td>\n",
       "      <td>0.190093</td>\n",
       "      <td>0.975575</td>\n",
       "      <td>0.622181</td>\n",
       "      <td>0.97937</td>\n",
       "      <td>0.831695</td>\n",
       "      <td>0.711666</td>\n",
       "    </tr>\n",
       "  </tbody>\n",
       "</table>\n",
       "</div>"
      ],
      "text/plain": [
       "                                             encoder  ...        f1\n",
       "0  CatBoostEncoder(a=1, cols=['Country', 'League'...  ...  0.737378\n",
       "1  MEstimateEncoder(cols=['Country', 'League', 'P...  ...  0.713364\n",
       "2  JamesSteinEncoder(cols=['Country', 'League', '...  ...  0.711666\n",
       "\n",
       "[3 rows x 8 columns]"
      ]
     },
     "execution_count": 41,
     "metadata": {},
     "output_type": "execute_result"
    }
   ],
   "source": [
    "encoding_metric_df.sort_values(by = 'acc', ascending = False)"
   ]
  },
  {
   "cell_type": "code",
   "execution_count": 42,
   "metadata": {
    "id": "FhH0R_h6D9YT"
   },
   "outputs": [],
   "source": [
    "#Encoding the categorival variables using target encoding\n",
    "cbe_encoder = ce.CatBoostEncoder()\n",
    "X_imp = cbe_encoder.fit_transform(X,y)\n",
    "\n",
    "#Standardization \n",
    "scaler = StandardScaler()\n",
    "X_imp_st = scaler.fit_transform(X_imp)\n",
    "X_imp_st = pd.DataFrame(data = X_imp_st, columns=X_imp.columns)\n",
    "\n",
    "#Normalization\n",
    "transformer = MinMaxScaler()\n",
    "X_imp_st_n = transformer.fit_transform(X_imp_st)\n",
    "X_imp_st_n = pd.DataFrame(data = X_imp_st_n, columns=X_imp_st.columns)"
   ]
  },
  {
   "cell_type": "code",
   "execution_count": 43,
   "metadata": {
    "colab": {
     "base_uri": "https://localhost:8080/"
    },
    "id": "YjpE0-9nDTp7",
    "outputId": "d306574c-012b-49e9-c67b-8cc15d0f4507"
   },
   "outputs": [
    {
     "name": "stdout",
     "output_type": "stream",
     "text": [
      "0.8091090648485295\n"
     ]
    }
   ],
   "source": [
    "X_train, X_test, y_train, y_test = train_test_split(X_imp_st_n, y, test_size=0.33, random_state=42)\n",
    "m = model.fit(X_train, y_train)\n",
    "y_pred = m.predict(X_test)\n",
    "print(roc_auc_score(y_test,y_pred))"
   ]
  },
  {
   "cell_type": "code",
   "execution_count": 44,
   "metadata": {
    "id": "Aku80JtezKMe"
   },
   "outputs": [],
   "source": [
    "#SMOTE"
   ]
  },
  {
   "cell_type": "code",
   "execution_count": 45,
   "metadata": {
    "id": "K-a6PzkjzKan"
   },
   "outputs": [],
   "source": [
    "#Create metric df to save model results\n",
    "smote_metric_df = pd.DataFrame(columns=['encoder','fit_time','score_time', 'acc', 'recall', 'auc', 'precision', 'f1'])"
   ]
  },
  {
   "cell_type": "code",
   "execution_count": 46,
   "metadata": {
    "colab": {
     "base_uri": "https://localhost:8080/"
    },
    "id": "Yx946l8AzKou",
    "outputId": "3a8f9f6a-2b1e-45e8-9bff-c7511275fba8"
   },
   "outputs": [
    {
     "name": "stderr",
     "output_type": "stream",
     "text": [
      "/usr/local/lib/python3.7/dist-packages/sklearn/utils/deprecation.py:87: FutureWarning: Function safe_indexing is deprecated; safe_indexing is deprecated in version 0.22 and will be removed in version 0.24.\n",
      "  warnings.warn(msg, category=FutureWarning)\n",
      "/usr/local/lib/python3.7/dist-packages/sklearn/utils/deprecation.py:87: FutureWarning: Function safe_indexing is deprecated; safe_indexing is deprecated in version 0.22 and will be removed in version 0.24.\n",
      "  warnings.warn(msg, category=FutureWarning)\n",
      "/usr/local/lib/python3.7/dist-packages/sklearn/utils/deprecation.py:87: FutureWarning: Function safe_indexing is deprecated; safe_indexing is deprecated in version 0.22 and will be removed in version 0.24.\n",
      "  warnings.warn(msg, category=FutureWarning)\n",
      "/usr/local/lib/python3.7/dist-packages/sklearn/utils/deprecation.py:87: FutureWarning: Function safe_indexing is deprecated; safe_indexing is deprecated in version 0.22 and will be removed in version 0.24.\n",
      "  warnings.warn(msg, category=FutureWarning)\n",
      "/usr/local/lib/python3.7/dist-packages/sklearn/utils/deprecation.py:87: FutureWarning: Function safe_indexing is deprecated; safe_indexing is deprecated in version 0.22 and will be removed in version 0.24.\n",
      "  warnings.warn(msg, category=FutureWarning)\n",
      "/usr/local/lib/python3.7/dist-packages/sklearn/utils/deprecation.py:87: FutureWarning: Function safe_indexing is deprecated; safe_indexing is deprecated in version 0.22 and will be removed in version 0.24.\n",
      "  warnings.warn(msg, category=FutureWarning)\n"
     ]
    }
   ],
   "source": [
    "# define the model\n",
    "model = RandomForestClassifier(n_estimators=50)\n",
    "\n",
    "#overfit the target label\n",
    "over = SVMSMOTE(sampling_strategy=0.15)\n",
    "X_res, y_res = over.fit_resample(X_imp_st_n, y)\n",
    "\n",
    "# define the evaluation method\n",
    "cv = RepeatedStratifiedKFold(n_splits=10, n_repeats=2, random_state=1)\n",
    "\n",
    "#scoring params\n",
    "scoring = {'acc': 'accuracy',\n",
    "           'recall': 'recall',\n",
    "           'auc': 'roc_auc',\n",
    "           'precison': 'precision',\n",
    "           'f1': 'f1'}\n",
    "\n",
    "# evaluate the model on the dataset\n",
    "n_scores = cross_validate(model, X_res, y_res, scoring=scoring, cv=cv, n_jobs=-1, return_train_score= False)\n",
    "\n",
    "to_add = []\n",
    "to_add.append(over)\n",
    "# report performance\n",
    "for key, value in n_scores.items():\n",
    "    to_add.append(mean(value))\n",
    "    #print(key, mean(value))\n",
    "\n",
    "smote_metric_df = smote_metric_df.append(pd.DataFrame(np.array(to_add).reshape(1,-1), columns=list(smote_metric_df.columns)), ignore_index=True)"
   ]
  },
  {
   "cell_type": "code",
   "execution_count": 47,
   "metadata": {
    "colab": {
     "base_uri": "https://localhost:8080/"
    },
    "id": "N1WMPtPBzKw2",
    "outputId": "5adc6206-d0e3-49c3-ede0-673a1e9c5567"
   },
   "outputs": [
    {
     "name": "stderr",
     "output_type": "stream",
     "text": [
      "/usr/local/lib/python3.7/dist-packages/sklearn/utils/deprecation.py:87: FutureWarning: Function safe_indexing is deprecated; safe_indexing is deprecated in version 0.22 and will be removed in version 0.24.\n",
      "  warnings.warn(msg, category=FutureWarning)\n",
      "/usr/local/lib/python3.7/dist-packages/sklearn/utils/deprecation.py:87: FutureWarning: Function safe_indexing is deprecated; safe_indexing is deprecated in version 0.22 and will be removed in version 0.24.\n",
      "  warnings.warn(msg, category=FutureWarning)\n",
      "/usr/local/lib/python3.7/dist-packages/sklearn/utils/deprecation.py:87: FutureWarning: Function safe_indexing is deprecated; safe_indexing is deprecated in version 0.22 and will be removed in version 0.24.\n",
      "  warnings.warn(msg, category=FutureWarning)\n"
     ]
    }
   ],
   "source": [
    "# define the model\n",
    "model = RandomForestClassifier(n_estimators=50)\n",
    "\n",
    "#overfit the target label\n",
    "over = BorderlineSMOTE(sampling_strategy=0.15)\n",
    "X_res, y_res = over.fit_resample(X_imp_st_n, y)\n",
    "\n",
    "# define the evaluation method\n",
    "cv = RepeatedStratifiedKFold(n_splits=10, n_repeats=2, random_state=1)\n",
    "\n",
    "#scoring params\n",
    "scoring = {'acc': 'accuracy',\n",
    "           'recall': 'recall',\n",
    "           'auc': 'roc_auc',\n",
    "           'precison': 'precision',\n",
    "           'f1': 'f1'}\n",
    "\n",
    "# evaluate the model on the dataset\n",
    "n_scores = cross_validate(model, X_res, y_res, scoring=scoring, cv=cv, n_jobs=-1, return_train_score= False)\n",
    "\n",
    "to_add = []\n",
    "to_add.append(over)\n",
    "# report performance\n",
    "for key, value in n_scores.items():\n",
    "    to_add.append(mean(value))\n",
    "    #print(key, mean(value))\n",
    "\n",
    "smote_metric_df = smote_metric_df.append(pd.DataFrame(np.array(to_add).reshape(1,-1), columns=list(smote_metric_df.columns)), ignore_index=True)"
   ]
  },
  {
   "cell_type": "code",
   "execution_count": 48,
   "metadata": {
    "colab": {
     "base_uri": "https://localhost:8080/"
    },
    "id": "dkne-WdLzpMA",
    "outputId": "b3607ca6-072d-4145-a707-6e561cf8e149"
   },
   "outputs": [
    {
     "name": "stderr",
     "output_type": "stream",
     "text": [
      "/usr/local/lib/python3.7/dist-packages/sklearn/utils/deprecation.py:87: FutureWarning: Function safe_indexing is deprecated; safe_indexing is deprecated in version 0.22 and will be removed in version 0.24.\n",
      "  warnings.warn(msg, category=FutureWarning)\n"
     ]
    }
   ],
   "source": [
    "# define the model\n",
    "model = RandomForestClassifier(n_estimators=50)\n",
    "\n",
    "#overfit the target label\n",
    "over = ADASYN(sampling_strategy=0.15)\n",
    "X_res, y_res = over.fit_resample(X_imp_st_n, y)\n",
    "\n",
    "# define the evaluation method\n",
    "cv = RepeatedStratifiedKFold(n_splits=10, n_repeats=2, random_state=1)\n",
    "\n",
    "#scoring params\n",
    "scoring = {'acc': 'accuracy',\n",
    "           'recall': 'recall',\n",
    "           'auc': 'roc_auc',\n",
    "           'precison': 'precision',\n",
    "           'f1': 'f1'}\n",
    "\n",
    "# evaluate the model on the dataset\n",
    "n_scores = cross_validate(model, X_res, y_res, scoring=scoring, cv=cv, n_jobs=-1, return_train_score= False)\n",
    "\n",
    "to_add = []\n",
    "to_add.append(over)\n",
    "# report performance\n",
    "for key, value in n_scores.items():\n",
    "    to_add.append(mean(value))\n",
    "    #print(key, mean(value))\n",
    "\n",
    "smote_metric_df = smote_metric_df.append(pd.DataFrame(np.array(to_add).reshape(1,-1), columns=list(smote_metric_df.columns)), ignore_index=True)"
   ]
  },
  {
   "cell_type": "code",
   "execution_count": 49,
   "metadata": {
    "colab": {
     "base_uri": "https://localhost:8080/",
     "height": 142
    },
    "id": "lC8uIx2ozK6c",
    "outputId": "b404303a-6d9c-4c23-87bc-3c1b60247b4f"
   },
   "outputs": [
    {
     "data": {
      "text/html": [
       "<div>\n",
       "<style scoped>\n",
       "    .dataframe tbody tr th:only-of-type {\n",
       "        vertical-align: middle;\n",
       "    }\n",
       "\n",
       "    .dataframe tbody tr th {\n",
       "        vertical-align: top;\n",
       "    }\n",
       "\n",
       "    .dataframe thead th {\n",
       "        text-align: right;\n",
       "    }\n",
       "</style>\n",
       "<table border=\"1\" class=\"dataframe\">\n",
       "  <thead>\n",
       "    <tr style=\"text-align: right;\">\n",
       "      <th></th>\n",
       "      <th>encoder</th>\n",
       "      <th>fit_time</th>\n",
       "      <th>score_time</th>\n",
       "      <th>acc</th>\n",
       "      <th>recall</th>\n",
       "      <th>auc</th>\n",
       "      <th>precision</th>\n",
       "      <th>f1</th>\n",
       "    </tr>\n",
       "  </thead>\n",
       "  <tbody>\n",
       "    <tr>\n",
       "      <th>1</th>\n",
       "      <td>BorderlineSMOTE(k_neighbors=5, kind='borderlin...</td>\n",
       "      <td>10.3863</td>\n",
       "      <td>0.197651</td>\n",
       "      <td>0.982575</td>\n",
       "      <td>0.937634</td>\n",
       "      <td>0.995518</td>\n",
       "      <td>0.929468</td>\n",
       "      <td>0.933507</td>\n",
       "    </tr>\n",
       "    <tr>\n",
       "      <th>0</th>\n",
       "      <td>SVMSMOTE(k_neighbors=5, m_neighbors=10, n_jobs...</td>\n",
       "      <td>10.8962</td>\n",
       "      <td>0.202786</td>\n",
       "      <td>0.98195</td>\n",
       "      <td>0.939611</td>\n",
       "      <td>0.995109</td>\n",
       "      <td>0.923448</td>\n",
       "      <td>0.931415</td>\n",
       "    </tr>\n",
       "    <tr>\n",
       "      <th>2</th>\n",
       "      <td>ADASYN(n_jobs=1, n_neighbors=5, random_state=N...</td>\n",
       "      <td>9.9915</td>\n",
       "      <td>0.202786</td>\n",
       "      <td>0.98109</td>\n",
       "      <td>0.923767</td>\n",
       "      <td>0.996328</td>\n",
       "      <td>0.923402</td>\n",
       "      <td>0.923556</td>\n",
       "    </tr>\n",
       "  </tbody>\n",
       "</table>\n",
       "</div>"
      ],
      "text/plain": [
       "                                             encoder  ...        f1\n",
       "1  BorderlineSMOTE(k_neighbors=5, kind='borderlin...  ...  0.933507\n",
       "0  SVMSMOTE(k_neighbors=5, m_neighbors=10, n_jobs...  ...  0.931415\n",
       "2  ADASYN(n_jobs=1, n_neighbors=5, random_state=N...  ...  0.923556\n",
       "\n",
       "[3 rows x 8 columns]"
      ]
     },
     "execution_count": 49,
     "metadata": {},
     "output_type": "execute_result"
    }
   ],
   "source": [
    "smote_metric_df.sort_values(by = 'acc', ascending = False)"
   ]
  },
  {
   "cell_type": "code",
   "execution_count": 50,
   "metadata": {
    "colab": {
     "base_uri": "https://localhost:8080/"
    },
    "id": "38kG0iR3zLHJ",
    "outputId": "8dc0d81c-5634-4bb8-9e27-a9047b6b45d1"
   },
   "outputs": [
    {
     "name": "stderr",
     "output_type": "stream",
     "text": [
      "/usr/local/lib/python3.7/dist-packages/sklearn/utils/deprecation.py:87: FutureWarning: Function safe_indexing is deprecated; safe_indexing is deprecated in version 0.22 and will be removed in version 0.24.\n",
      "  warnings.warn(msg, category=FutureWarning)\n",
      "/usr/local/lib/python3.7/dist-packages/sklearn/utils/deprecation.py:87: FutureWarning: Function safe_indexing is deprecated; safe_indexing is deprecated in version 0.22 and will be removed in version 0.24.\n",
      "  warnings.warn(msg, category=FutureWarning)\n",
      "/usr/local/lib/python3.7/dist-packages/sklearn/utils/deprecation.py:87: FutureWarning: Function safe_indexing is deprecated; safe_indexing is deprecated in version 0.22 and will be removed in version 0.24.\n",
      "  warnings.warn(msg, category=FutureWarning)\n"
     ]
    }
   ],
   "source": [
    "X_train, X_test, y_train, y_test = train_test_split(X_imp_st_n, y, test_size=0.33, random_state=42)\n",
    "over = BorderlineSMOTE(sampling_strategy=0.3)\n",
    "X_res, y_res = over.fit_resample(X_train, y_train)\n"
   ]
  },
  {
   "cell_type": "code",
   "execution_count": 51,
   "metadata": {
    "colab": {
     "base_uri": "https://localhost:8080/"
    },
    "id": "zHZefpsszLQQ",
    "outputId": "9f08623e-c422-43c5-8b7f-565de0ef5392"
   },
   "outputs": [
    {
     "name": "stdout",
     "output_type": "stream",
     "text": [
      "0.8615825685802007\n"
     ]
    }
   ],
   "source": [
    "m = model.fit(X_res, y_res)\n",
    "y_pred = m.predict(X_test)\n",
    "print(roc_auc_score(y_test,y_pred))"
   ]
  },
  {
   "cell_type": "code",
   "execution_count": 52,
   "metadata": {
    "colab": {
     "base_uri": "https://localhost:8080/"
    },
    "id": "CTlkQ1doISWx",
    "outputId": "a1eef69c-e853-42ee-e8cd-52bd71d175a5"
   },
   "outputs": [
    {
     "name": "stdout",
     "output_type": "stream",
     "text": [
      "0.8688144250743639\n"
     ]
    }
   ],
   "source": [
    "model = RandomForestClassifier(n_estimators=500)\n",
    "m = model.fit(X_res, y_res)\n",
    "y_pred = m.predict(X_test)\n",
    "print(roc_auc_score(y_test,y_pred))"
   ]
  },
  {
   "cell_type": "code",
   "execution_count": 53,
   "metadata": {
    "colab": {
     "base_uri": "https://localhost:8080/"
    },
    "id": "jAl2xvkF3Y3t",
    "outputId": "c6e98a4c-1d6a-49f8-9516-6ed9302fba45"
   },
   "outputs": [
    {
     "data": {
      "text/plain": [
       "{'Country': 0.03379236963487924,\n",
       " 'DEGREE': 0.02182228283988822,\n",
       " 'Division': 0.0036861093730938227,\n",
       " 'Eigv': 0.026125051215624712,\n",
       " 'IsNational': 0.017998524532696365,\n",
       " 'League': 0.11234669241123416,\n",
       " 'National_teammates': 0.04067426350953989,\n",
       " 'Position': 0.03227830986716717,\n",
       " 'Skill1': 0.18226642062414652,\n",
       " 'Skill2': 0.17248971410585381,\n",
       " 'Skill3': 0.0952793078482923,\n",
       " 'Skill4': 0.1258849339301676,\n",
       " 'Skill5': 0.09106736662995715,\n",
       " 'TOTS': 0.0026911375397217917,\n",
       " 'TOTS_teammates': 0.04159751593773726}"
      ]
     },
     "execution_count": 53,
     "metadata": {},
     "output_type": "execute_result"
    }
   ],
   "source": [
    "zip_iterator = zip(list(X_imp_st_n.columns), m.feature_importances_)\n",
    "feature_dict = dict(zip_iterator)\n",
    "dict( sorted(feature_dict.items(), key=operator.itemgetter(1),reverse=True))"
   ]
  },
  {
   "cell_type": "code",
   "execution_count": 54,
   "metadata": {
    "id": "E9FHtbqB3jEx"
   },
   "outputs": [],
   "source": [
    "data['KPI_Value'] = X_imp_st_n[list(feature_dict.items())[0][0]] * list(feature_dict.items())[0][1] + \\\n",
    "    X_imp_st_n[list(feature_dict.items())[1][0]] * list(feature_dict.items())[1][1] + \\\n",
    "    X_imp_st_n[list(feature_dict.items())[2][0]] * list(feature_dict.items())[2][1] + \\\n",
    "    X_imp_st_n[list(feature_dict.items())[3][0]] * list(feature_dict.items())[3][1] + \\\n",
    "    X_imp_st_n[list(feature_dict.items())[4][0]] * list(feature_dict.items())[4][1] + \\\n",
    "    X_imp_st_n[list(feature_dict.items())[5][0]] * list(feature_dict.items())[5][1] + \\\n",
    "    X_imp_st_n[list(feature_dict.items())[6][0]] * list(feature_dict.items())[6][1] + \\\n",
    "    X_imp_st_n[list(feature_dict.items())[7][0]] * list(feature_dict.items())[7][1] + \\\n",
    "    X_imp_st_n[list(feature_dict.items())[8][0]] * list(feature_dict.items())[8][1] + \\\n",
    "    X_imp_st_n[list(feature_dict.items())[9][0]] * list(feature_dict.items())[9][1] + \\\n",
    "    X_imp_st_n[list(feature_dict.items())[10][0]] * list(feature_dict.items())[10][1] + \\\n",
    "    X_imp_st_n[list(feature_dict.items())[11][0]] * list(feature_dict.items())[11][1] + \\\n",
    "    X_imp_st_n[list(feature_dict.items())[12][0]] * list(feature_dict.items())[12][1] + \\\n",
    "    X_imp_st_n[list(feature_dict.items())[13][0]] * list(feature_dict.items())[13][1] + \\\n",
    "    X_imp_st_n[list(feature_dict.items())[14][0]] * list(feature_dict.items())[14][1]\n"
   ]
  },
  {
   "cell_type": "code",
   "execution_count": 55,
   "metadata": {
    "id": "ZAQ_sZB83r1F"
   },
   "outputs": [],
   "source": [
    "data.to_excel('data-2-2-3.xlsx')"
   ]
  }
 ],
 "metadata": {
  "accelerator": "GPU",
  "colab": {
   "collapsed_sections": [],
   "name": "Value_model",
   "provenance": []
  },
  "kernelspec": {
   "display_name": "Python 3 (ipykernel)",
   "language": "python",
   "name": "python3"
  },
  "language_info": {
   "codemirror_mode": {
    "name": "ipython",
    "version": 3
   },
   "file_extension": ".py",
   "mimetype": "text/x-python",
   "name": "python",
   "nbconvert_exporter": "python",
   "pygments_lexer": "ipython3",
   "version": "3.9.7"
  }
 },
 "nbformat": 4,
 "nbformat_minor": 1
}
