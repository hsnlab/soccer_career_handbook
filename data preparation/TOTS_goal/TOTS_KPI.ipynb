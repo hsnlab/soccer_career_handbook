{
 "cells": [
  {
   "cell_type": "code",
   "execution_count": 2,
   "metadata": {
    "colab": {
     "base_uri": "https://localhost:8080/"
    },
    "id": "4tJwk0YjUal3",
    "outputId": "2ec55030-3668-454a-b034-87c7b9579f01"
   },
   "outputs": [
    {
     "name": "stdout",
     "output_type": "stream",
     "text": [
      "Collecting category_encoders\n",
      "  Downloading category_encoders-2.3.0-py2.py3-none-any.whl (82 kB)\n",
      "\u001b[?25l\r",
      "\u001b[K     |████                            | 10 kB 23.1 MB/s eta 0:00:01\r",
      "\u001b[K     |████████                        | 20 kB 25.5 MB/s eta 0:00:01\r",
      "\u001b[K     |████████████                    | 30 kB 12.3 MB/s eta 0:00:01\r",
      "\u001b[K     |████████████████                | 40 kB 9.3 MB/s eta 0:00:01\r",
      "\u001b[K     |████████████████████            | 51 kB 5.2 MB/s eta 0:00:01\r",
      "\u001b[K     |████████████████████████        | 61 kB 5.5 MB/s eta 0:00:01\r",
      "\u001b[K     |████████████████████████████    | 71 kB 6.0 MB/s eta 0:00:01\r",
      "\u001b[K     |███████████████████████████████▉| 81 kB 6.7 MB/s eta 0:00:01\r",
      "\u001b[K     |████████████████████████████████| 82 kB 248 kB/s \n",
      "\u001b[?25hRequirement already satisfied: patsy>=0.5.1 in /usr/local/lib/python3.7/dist-packages (from category_encoders) (0.5.2)\n",
      "Requirement already satisfied: statsmodels>=0.9.0 in /usr/local/lib/python3.7/dist-packages (from category_encoders) (0.10.2)\n",
      "Requirement already satisfied: scipy>=1.0.0 in /usr/local/lib/python3.7/dist-packages (from category_encoders) (1.4.1)\n",
      "Requirement already satisfied: pandas>=0.21.1 in /usr/local/lib/python3.7/dist-packages (from category_encoders) (1.1.5)\n",
      "Requirement already satisfied: numpy>=1.14.0 in /usr/local/lib/python3.7/dist-packages (from category_encoders) (1.19.5)\n",
      "Requirement already satisfied: scikit-learn>=0.20.0 in /usr/local/lib/python3.7/dist-packages (from category_encoders) (0.22.2.post1)\n",
      "Requirement already satisfied: python-dateutil>=2.7.3 in /usr/local/lib/python3.7/dist-packages (from pandas>=0.21.1->category_encoders) (2.8.2)\n",
      "Requirement already satisfied: pytz>=2017.2 in /usr/local/lib/python3.7/dist-packages (from pandas>=0.21.1->category_encoders) (2018.9)\n",
      "Requirement already satisfied: six in /usr/local/lib/python3.7/dist-packages (from patsy>=0.5.1->category_encoders) (1.15.0)\n",
      "Requirement already satisfied: joblib>=0.11 in /usr/local/lib/python3.7/dist-packages (from scikit-learn>=0.20.0->category_encoders) (1.0.1)\n",
      "Installing collected packages: category-encoders\n",
      "Successfully installed category-encoders-2.3.0\n"
     ]
    }
   ],
   "source": [
    "!pip install category_encoders"
   ]
  },
  {
   "cell_type": "code",
   "execution_count": 3,
   "metadata": {
    "colab": {
     "base_uri": "https://localhost:8080/"
    },
    "id": "kMq5FTsxUK8d",
    "outputId": "f212f835-6b45-41ed-fa7e-c639281db382"
   },
   "outputs": [
    {
     "name": "stderr",
     "output_type": "stream",
     "text": [
      "/usr/local/lib/python3.7/dist-packages/statsmodels/tools/_testing.py:19: FutureWarning: pandas.util.testing is deprecated. Use the functions in the public API at pandas.testing instead.\n",
      "  import pandas.util.testing as tm\n",
      "/usr/local/lib/python3.7/dist-packages/sklearn/externals/six.py:31: FutureWarning: The module is deprecated in version 0.21 and will be removed in version 0.23 since we've dropped support for Python 2.7. Please rely on the official version of six (https://pypi.org/project/six/).\n",
      "  \"(https://pypi.org/project/six/).\", FutureWarning)\n",
      "/usr/local/lib/python3.7/dist-packages/sklearn/utils/deprecation.py:144: FutureWarning: The sklearn.neighbors.base module is  deprecated in version 0.22 and will be removed in version 0.24. The corresponding classes / functions should instead be imported from sklearn.neighbors. Anything that cannot be imported from sklearn.neighbors is now part of the private API.\n",
      "  warnings.warn(message, FutureWarning)\n"
     ]
    }
   ],
   "source": [
    "#import packages\n",
    "import pandas as pd\n",
    "import matplotlib.pyplot as plt\n",
    "import numpy as np\n",
    "import seaborn as sn\n",
    "import category_encoders as ce\n",
    "from sklearn.experimental import enable_iterative_imputer\n",
    "from sklearn.impute import IterativeImputer\n",
    "from sklearn.preprocessing import StandardScaler\n",
    "from xgboost import XGBClassifier\n",
    "from sklearn.model_selection import RepeatedStratifiedKFold\n",
    "from sklearn.model_selection import cross_validate, cross_val_predict\n",
    "from sklearn.metrics import make_scorer\n",
    "from sklearn.metrics import recall_score, precision_score, f1_score\n",
    "from sklearn.metrics import roc_auc_score\n",
    "from sklearn.metrics import accuracy_score\n",
    "from numpy import mean\n",
    "from sklearn.metrics import confusion_matrix\n",
    "from sklearn.model_selection import train_test_split\n",
    "import operator\n",
    "import itertools\n",
    "import operator\n",
    "from itertools import islice\n",
    "import glob\n",
    "import os\n",
    "from sklearn.model_selection import train_test_split\n",
    "from sklearn.ensemble import GradientBoostingClassifier\n",
    "from sklearn.metrics import accuracy_score\n",
    "from sklearn.metrics import confusion_matrix\n",
    "from numpy import mean\n",
    "from numpy import std\n",
    "from sklearn.datasets import make_classification\n",
    "from sklearn.model_selection import cross_val_score\n",
    "from sklearn.model_selection import RepeatedStratifiedKFold\n",
    "from sklearn.model_selection import cross_val_predict\n",
    "from sklearn.model_selection import cross_validate\n",
    "from sklearn.ensemble import AdaBoostClassifier\n",
    "from sklearn.ensemble import RandomForestClassifier\n",
    "from sklearn.ensemble import BaggingClassifier\n",
    "from xgboost import XGBClassifier\n",
    "from sklearn import metrics\n",
    "from sklearn import svm\n",
    "from sklearn.linear_model import LogisticRegression\n",
    "from sklearn.feature_selection import RFE\n",
    "from sklearn.tree import DecisionTreeClassifier\n",
    "from sklearn.pipeline import Pipeline\n",
    "from sklearn.model_selection import GridSearchCV\n",
    "import category_encoders as ce\n",
    "from sklearn.experimental import enable_iterative_imputer\n",
    "from sklearn.impute import IterativeImputer\n",
    "from sklearn.preprocessing import StandardScaler\n",
    "from sklearn.naive_bayes import GaussianNB \n",
    "from sklearn.naive_bayes import BernoulliNB\n",
    "from sklearn.linear_model import RidgeClassifier\n",
    "from sklearn.tree import DecisionTreeRegressor\n",
    "from sklearn.ensemble import ExtraTreesRegressor\n",
    "from sklearn.neighbors import KNeighborsRegressor\n",
    "from sklearn.preprocessing import MinMaxScaler\n",
    "from sklearn import linear_model\n",
    "from sklearn.metrics import roc_curve\n",
    "from sklearn.metrics import confusion_matrix\n",
    "from imblearn.over_sampling import SVMSMOTE\n",
    "from imblearn.over_sampling import BorderlineSMOTE\n",
    "from imblearn.over_sampling import ADASYN"
   ]
  },
  {
   "cell_type": "code",
   "execution_count": 4,
   "metadata": {
    "id": "aph2yxfPUuvL"
   },
   "outputs": [],
   "source": [
    "data = pd.read_excel('data-2.xlsx')\n",
    "del data['Unnamed: 0']\n",
    "data = data.rename(columns={'TOTS.1': 'TOTS_Teammates'})"
   ]
  },
  {
   "cell_type": "code",
   "execution_count": 5,
   "metadata": {
    "colab": {
     "base_uri": "https://localhost:8080/"
    },
    "id": "fXzFfUJ_X3Aq",
    "outputId": "90b4d4c5-9a6f-47a0-b9ce-f942f925f1da"
   },
   "outputs": [
    {
     "name": "stdout",
     "output_type": "stream",
     "text": [
      "<class 'pandas.core.frame.DataFrame'>\n",
      "RangeIndex: 92120 entries, 0 to 92119\n",
      "Data columns (total 60 columns):\n",
      " #   Column              Non-Null Count  Dtype  \n",
      "---  ------              --------------  -----  \n",
      " 0   ID                  92120 non-null  int64  \n",
      " 1   Name                92120 non-null  object \n",
      " 2   Age                 92120 non-null  int64  \n",
      " 3   Height_cm           92120 non-null  int64  \n",
      " 4   Weight_kg           92120 non-null  int64  \n",
      " 5   Country             92120 non-null  object \n",
      " 6   Club                92120 non-null  object \n",
      " 7   League              92120 non-null  object \n",
      " 8   Division            92120 non-null  int64  \n",
      " 9   Joined              92120 non-null  object \n",
      " 10  Position            92120 non-null  object \n",
      " 11  Foot                92120 non-null  object \n",
      " 12  IntReputation       92120 non-null  int64  \n",
      " 13  Crossing            92120 non-null  int64  \n",
      " 14  Finishing           92120 non-null  int64  \n",
      " 15  Heading_accuracy    92120 non-null  int64  \n",
      " 16  Short_passing       92120 non-null  int64  \n",
      " 17  Volleys             92120 non-null  int64  \n",
      " 18  Dribbling           92120 non-null  int64  \n",
      " 19  Curve               92120 non-null  int64  \n",
      " 20  FK_accuracy         92120 non-null  int64  \n",
      " 21  Long_passing        92120 non-null  int64  \n",
      " 22  Ball_control        92120 non-null  int64  \n",
      " 23  Acceleration        92120 non-null  int64  \n",
      " 24  Sprint_speed        92120 non-null  int64  \n",
      " 25  Agility             92120 non-null  int64  \n",
      " 26  Reactions           92120 non-null  int64  \n",
      " 27  Balance             92120 non-null  int64  \n",
      " 28  Shot_power          92120 non-null  int64  \n",
      " 29  Jumping             92120 non-null  int64  \n",
      " 30  Stamina             92120 non-null  int64  \n",
      " 31  Strength            92120 non-null  int64  \n",
      " 32  Long_shots          92120 non-null  int64  \n",
      " 33  Aggression          92120 non-null  int64  \n",
      " 34  Interceptions       92120 non-null  int64  \n",
      " 35  Positioning         92120 non-null  int64  \n",
      " 36  Vision              92120 non-null  int64  \n",
      " 37  Penalties           92120 non-null  int64  \n",
      " 38  Marking             92120 non-null  int64  \n",
      " 39  Standing_tackle     92120 non-null  int64  \n",
      " 40  Sliding_tackle      92120 non-null  int64  \n",
      " 41  GK_diving           92120 non-null  int64  \n",
      " 42  GK_handling         92120 non-null  int64  \n",
      " 43  GK_kicking          92120 non-null  int64  \n",
      " 44  GK_positioning      92120 non-null  int64  \n",
      " 45  GK_reflexes         92120 non-null  int64  \n",
      " 46  Value               92120 non-null  float64\n",
      " 47  IsNational          92120 non-null  int64  \n",
      " 48  TOTS                1733 non-null   float64\n",
      " 49  DEGREE              92113 non-null  float64\n",
      " 50  Eigv                92113 non-null  float64\n",
      " 51  National_teammates  92120 non-null  int64  \n",
      " 52  TOTS_teammates      92120 non-null  int64  \n",
      " 53  Year                92120 non-null  int64  \n",
      " 54  Skill1              92120 non-null  int64  \n",
      " 55  Skill2              92120 non-null  int64  \n",
      " 56  Skill3              92120 non-null  int64  \n",
      " 57  Skill4              92120 non-null  int64  \n",
      " 58  Skill5              92120 non-null  int64  \n",
      " 59  KPI_IsNational      90311 non-null  float64\n",
      "dtypes: float64(5), int64(48), object(7)\n",
      "memory usage: 42.2+ MB\n"
     ]
    }
   ],
   "source": [
    "data.info()"
   ]
  },
  {
   "cell_type": "code",
   "execution_count": 6,
   "metadata": {
    "id": "uueryyIFVr8N"
   },
   "outputs": [],
   "source": [
    "check_df = data[['Country', 'IsNational']].drop_duplicates()['Country'].value_counts()"
   ]
  },
  {
   "cell_type": "code",
   "execution_count": 7,
   "metadata": {
    "id": "_9C3AT9ZVsIL"
   },
   "outputs": [],
   "source": [
    "to_del = check_df[check_df == 1].index"
   ]
  },
  {
   "cell_type": "code",
   "execution_count": 8,
   "metadata": {
    "id": "Cb2kh9HpVsNY"
   },
   "outputs": [],
   "source": [
    "data = data[~data.Country.isin(to_del)]"
   ]
  },
  {
   "cell_type": "code",
   "execution_count": 9,
   "metadata": {
    "colab": {
     "base_uri": "https://localhost:8080/"
    },
    "id": "TH76DV1LVsTt",
    "outputId": "f1c255bd-22f7-4a93-f301-e081bd197f51"
   },
   "outputs": [
    {
     "name": "stdout",
     "output_type": "stream",
     "text": [
      "<class 'pandas.core.frame.DataFrame'>\n",
      "Int64Index: 92120 entries, 0 to 92119\n",
      "Data columns (total 60 columns):\n",
      " #   Column              Non-Null Count  Dtype  \n",
      "---  ------              --------------  -----  \n",
      " 0   ID                  92120 non-null  int64  \n",
      " 1   Name                92120 non-null  object \n",
      " 2   Age                 92120 non-null  int64  \n",
      " 3   Height_cm           92120 non-null  int64  \n",
      " 4   Weight_kg           92120 non-null  int64  \n",
      " 5   Country             92120 non-null  object \n",
      " 6   Club                92120 non-null  object \n",
      " 7   League              92120 non-null  object \n",
      " 8   Division            92120 non-null  int64  \n",
      " 9   Joined              92120 non-null  object \n",
      " 10  Position            92120 non-null  object \n",
      " 11  Foot                92120 non-null  object \n",
      " 12  IntReputation       92120 non-null  int64  \n",
      " 13  Crossing            92120 non-null  int64  \n",
      " 14  Finishing           92120 non-null  int64  \n",
      " 15  Heading_accuracy    92120 non-null  int64  \n",
      " 16  Short_passing       92120 non-null  int64  \n",
      " 17  Volleys             92120 non-null  int64  \n",
      " 18  Dribbling           92120 non-null  int64  \n",
      " 19  Curve               92120 non-null  int64  \n",
      " 20  FK_accuracy         92120 non-null  int64  \n",
      " 21  Long_passing        92120 non-null  int64  \n",
      " 22  Ball_control        92120 non-null  int64  \n",
      " 23  Acceleration        92120 non-null  int64  \n",
      " 24  Sprint_speed        92120 non-null  int64  \n",
      " 25  Agility             92120 non-null  int64  \n",
      " 26  Reactions           92120 non-null  int64  \n",
      " 27  Balance             92120 non-null  int64  \n",
      " 28  Shot_power          92120 non-null  int64  \n",
      " 29  Jumping             92120 non-null  int64  \n",
      " 30  Stamina             92120 non-null  int64  \n",
      " 31  Strength            92120 non-null  int64  \n",
      " 32  Long_shots          92120 non-null  int64  \n",
      " 33  Aggression          92120 non-null  int64  \n",
      " 34  Interceptions       92120 non-null  int64  \n",
      " 35  Positioning         92120 non-null  int64  \n",
      " 36  Vision              92120 non-null  int64  \n",
      " 37  Penalties           92120 non-null  int64  \n",
      " 38  Marking             92120 non-null  int64  \n",
      " 39  Standing_tackle     92120 non-null  int64  \n",
      " 40  Sliding_tackle      92120 non-null  int64  \n",
      " 41  GK_diving           92120 non-null  int64  \n",
      " 42  GK_handling         92120 non-null  int64  \n",
      " 43  GK_kicking          92120 non-null  int64  \n",
      " 44  GK_positioning      92120 non-null  int64  \n",
      " 45  GK_reflexes         92120 non-null  int64  \n",
      " 46  Value               92120 non-null  float64\n",
      " 47  IsNational          92120 non-null  int64  \n",
      " 48  TOTS                1733 non-null   float64\n",
      " 49  DEGREE              92113 non-null  float64\n",
      " 50  Eigv                92113 non-null  float64\n",
      " 51  National_teammates  92120 non-null  int64  \n",
      " 52  TOTS_teammates      92120 non-null  int64  \n",
      " 53  Year                92120 non-null  int64  \n",
      " 54  Skill1              92120 non-null  int64  \n",
      " 55  Skill2              92120 non-null  int64  \n",
      " 56  Skill3              92120 non-null  int64  \n",
      " 57  Skill4              92120 non-null  int64  \n",
      " 58  Skill5              92120 non-null  int64  \n",
      " 59  KPI_IsNational      90311 non-null  float64\n",
      "dtypes: float64(5), int64(48), object(7)\n",
      "memory usage: 42.9+ MB\n"
     ]
    }
   ],
   "source": [
    "data.info()"
   ]
  },
  {
   "cell_type": "code",
   "execution_count": 10,
   "metadata": {
    "id": "uFFL4JLG6W5V"
   },
   "outputs": [],
   "source": [
    "data = data.fillna(0)"
   ]
  },
  {
   "cell_type": "code",
   "execution_count": 11,
   "metadata": {
    "id": "B-2o0YjfVsfA"
   },
   "outputs": [],
   "source": [
    "feature_list = ['Country', 'League', 'Division', 'Position', 'Value', 'DEGREE', 'Eigv', 'National_teammates', 'TOTS_teammates', 'Skill1', 'Skill2', 'Skill3', 'Skill4', 'Skill5', 'IsNational']\n",
    "target = 'TOTS'\n",
    "\n",
    "X = data[feature_list]\n",
    "y = data[target]"
   ]
  },
  {
   "cell_type": "code",
   "execution_count": 12,
   "metadata": {
    "colab": {
     "base_uri": "https://localhost:8080/"
    },
    "id": "TabQiuEXiNAx",
    "outputId": "72778d23-f89e-4227-ab1f-91156e4d6f80"
   },
   "outputs": [
    {
     "data": {
      "text/plain": [
       "0.0    90387\n",
       "1.0     1733\n",
       "Name: TOTS, dtype: int64"
      ]
     },
     "execution_count": 12,
     "metadata": {},
     "output_type": "execute_result"
    }
   ],
   "source": [
    "data[target].value_counts()"
   ]
  },
  {
   "cell_type": "code",
   "execution_count": 13,
   "metadata": {
    "id": "EwuuYdGQZHN1"
   },
   "outputs": [],
   "source": [
    "#Encoding the categorival variables using target encoding\n",
    "cbe_encoder = ce.cat_boost.CatBoostEncoder()\n",
    "X_imp = cbe_encoder.fit_transform(X,y)\n",
    "\n",
    "#Standardization \n",
    "scaler = StandardScaler()\n",
    "X_imp_st = scaler.fit_transform(X_imp)\n",
    "X_imp_st = pd.DataFrame(data = X_imp_st, columns=X_imp.columns)\n",
    "\n",
    "#Normalization\n",
    "transformer = MinMaxScaler()\n",
    "X_imp_st_n = transformer.fit_transform(X_imp_st)\n",
    "X_imp_st_n = pd.DataFrame(data = X_imp_st_n, columns=X_imp_st.columns)"
   ]
  },
  {
   "cell_type": "code",
   "execution_count": 18,
   "metadata": {
    "id": "xbV6veFmZHRm"
   },
   "outputs": [],
   "source": [
    "#Create metric df to save model results\n",
    "metric_df = pd.DataFrame(columns=['model','fit_time','score_time', 'acc', 'recall', 'auc', 'precision', 'f1'])"
   ]
  },
  {
   "cell_type": "code",
   "execution_count": 19,
   "metadata": {
    "id": "oQWd6a00ZHX6"
   },
   "outputs": [],
   "source": [
    "# define the model\n",
    "model = XGBClassifier(n_estimators=50)\n",
    "\n",
    "# define the evaluation method\n",
    "cv = RepeatedStratifiedKFold(n_splits=10, n_repeats=2, random_state=1)\n",
    "\n",
    "#scoring params\n",
    "scoring = {'acc': 'accuracy',\n",
    "           'recall': 'recall',\n",
    "           'auc': 'roc_auc',\n",
    "           'precison': 'precision',\n",
    "           'f1': 'f1'}\n",
    "\n",
    "# evaluate the model on the dataset\n",
    "n_scores = cross_validate(model, X_imp_st_n, y, scoring=scoring, cv=cv, n_jobs=-1, return_train_score= False)\n",
    "\n",
    "to_add = []\n",
    "to_add.append(model)\n",
    "# report performance\n",
    "for key, value in n_scores.items():\n",
    "    to_add.append(mean(value))\n",
    "    #print(key, mean(value))\n",
    "\n",
    "metric_df = metric_df.append(pd.DataFrame(np.array(to_add).reshape(1,-1), columns=list(metric_df.columns)), ignore_index=True)"
   ]
  },
  {
   "cell_type": "code",
   "execution_count": 20,
   "metadata": {
    "id": "ps1qYL_EZHcL"
   },
   "outputs": [],
   "source": [
    "# define the model\n",
    "model = AdaBoostClassifier(n_estimators=50)\n",
    "\n",
    "# define the evaluation method\n",
    "cv = RepeatedStratifiedKFold(n_splits=10, n_repeats=2, random_state=1)\n",
    "\n",
    "#scoring params\n",
    "scoring = {'acc': 'accuracy',\n",
    "           'recall': 'recall',\n",
    "           'auc': 'roc_auc',\n",
    "           'precison': 'precision',\n",
    "           'f1': 'f1'}\n",
    "\n",
    "# evaluate the model on the dataset\n",
    "n_scores = cross_validate(model, X_imp_st_n, y, scoring=scoring, cv=cv, n_jobs=-1, return_train_score= False)\n",
    "\n",
    "to_add = []\n",
    "to_add.append(model)\n",
    "# report performance\n",
    "for key, value in n_scores.items():\n",
    "    to_add.append(mean(value))\n",
    "    #print(key, mean(value))\n",
    "\n",
    "metric_df = metric_df.append(pd.DataFrame(np.array(to_add).reshape(1,-1), columns=list(metric_df.columns)), ignore_index=True)"
   ]
  },
  {
   "cell_type": "code",
   "execution_count": 21,
   "metadata": {
    "id": "KyBcsu--ZHfv"
   },
   "outputs": [],
   "source": [
    "# define the model\n",
    "model = GradientBoostingClassifier(n_estimators=50)\n",
    "\n",
    "# define the evaluation method\n",
    "cv = RepeatedStratifiedKFold(n_splits=10, n_repeats=2, random_state=1)\n",
    "\n",
    "#scoring params\n",
    "scoring = {'acc': 'accuracy',\n",
    "           'recall': 'recall',\n",
    "           'auc': 'roc_auc',\n",
    "           'precison': 'precision',\n",
    "           'f1': 'f1'}\n",
    "\n",
    "# evaluate the model on the dataset\n",
    "n_scores = cross_validate(model, X_imp_st_n, y, scoring=scoring, cv=cv, n_jobs=-1, return_train_score= False)\n",
    "\n",
    "to_add = []\n",
    "to_add.append(model)\n",
    "# report performance\n",
    "for key, value in n_scores.items():\n",
    "    to_add.append(mean(value))\n",
    "    #print(key, mean(value))\n",
    "\n",
    "metric_df = metric_df.append(pd.DataFrame(np.array(to_add).reshape(1,-1), columns=list(metric_df.columns)), ignore_index=True)"
   ]
  },
  {
   "cell_type": "code",
   "execution_count": 22,
   "metadata": {
    "id": "cXJh-jNoZHkN"
   },
   "outputs": [],
   "source": [
    "# define the model\n",
    "model = RandomForestClassifier(n_estimators=50)\n",
    "\n",
    "# define the evaluation method\n",
    "cv = RepeatedStratifiedKFold(n_splits=10, n_repeats=2, random_state=1)\n",
    "\n",
    "#scoring params\n",
    "scoring = {'acc': 'accuracy',\n",
    "           'recall': 'recall',\n",
    "           'auc': 'roc_auc',\n",
    "           'precison': 'precision',\n",
    "           'f1': 'f1'}\n",
    "\n",
    "# evaluate the model on the dataset\n",
    "n_scores = cross_validate(model, X_imp_st_n, y, scoring=scoring, cv=cv, n_jobs=-1, return_train_score= False)\n",
    "\n",
    "to_add = []\n",
    "to_add.append(model)\n",
    "# report performance\n",
    "for key, value in n_scores.items():\n",
    "    to_add.append(mean(value))\n",
    "    #print(key, mean(value))\n",
    "\n",
    "metric_df = metric_df.append(pd.DataFrame(np.array(to_add).reshape(1,-1), columns=list(metric_df.columns)), ignore_index=True)"
   ]
  },
  {
   "cell_type": "code",
   "execution_count": 23,
   "metadata": {
    "id": "YAss1sXCZHn5"
   },
   "outputs": [],
   "source": [
    "# define the model\n",
    "model = BaggingClassifier(n_estimators=50)\n",
    "\n",
    "# define the evaluation method\n",
    "cv = RepeatedStratifiedKFold(n_splits=10, n_repeats=2, random_state=1)\n",
    "\n",
    "#scoring params\n",
    "scoring = {'acc': 'accuracy',\n",
    "           'recall': 'recall',\n",
    "           'auc': 'roc_auc',\n",
    "           'precison': 'precision',\n",
    "           'f1': 'f1'}\n",
    "\n",
    "# evaluate the model on the dataset\n",
    "n_scores = cross_validate(model, X_imp_st_n, y, scoring=scoring, cv=cv, n_jobs=-1, return_train_score= False)\n",
    "\n",
    "to_add = []\n",
    "to_add.append(model)\n",
    "# report performance\n",
    "for key, value in n_scores.items():\n",
    "    to_add.append(mean(value))\n",
    "    #print(key, mean(value))\n",
    "\n",
    "metric_df = metric_df.append(pd.DataFrame(np.array(to_add).reshape(1,-1), columns=list(metric_df.columns)), ignore_index=True)"
   ]
  },
  {
   "cell_type": "code",
   "execution_count": 24,
   "metadata": {
    "id": "DYv5KDOZZo1W"
   },
   "outputs": [],
   "source": [
    "# define the model\n",
    "model = LogisticRegression()\n",
    "\n",
    "# define the evaluation method\n",
    "cv = RepeatedStratifiedKFold(n_splits=10, n_repeats=2, random_state=1)\n",
    "\n",
    "#scoring params\n",
    "scoring = {'acc': 'accuracy',\n",
    "           'recall': 'recall',\n",
    "           'auc': 'roc_auc',\n",
    "           'precison': 'precision',\n",
    "           'f1': 'f1'}\n",
    "\n",
    "# evaluate the model on the dataset\n",
    "n_scores = cross_validate(model, X_imp_st_n, y, scoring=scoring, cv=cv, n_jobs=-1, return_train_score= False)\n",
    "\n",
    "to_add = []\n",
    "to_add.append(model)\n",
    "# report performance\n",
    "for key, value in n_scores.items():\n",
    "    to_add.append(mean(value))\n",
    "    #print(key, mean(value))\n",
    "\n",
    "metric_df = metric_df.append(pd.DataFrame(np.array(to_add).reshape(1,-1), columns=list(metric_df.columns)), ignore_index=True)"
   ]
  },
  {
   "cell_type": "code",
   "execution_count": 25,
   "metadata": {
    "id": "_LP_yplAZqAa"
   },
   "outputs": [],
   "source": [
    "# define the model\n",
    "model = GaussianNB()\n",
    "\n",
    "# define the evaluation method\n",
    "cv = RepeatedStratifiedKFold(n_splits=10, n_repeats=2, random_state=1)\n",
    "\n",
    "#scoring params\n",
    "scoring = {'acc': 'accuracy',\n",
    "           'recall': 'recall',\n",
    "           'auc': 'roc_auc',\n",
    "           'precison': 'precision',\n",
    "           'f1': 'f1'}\n",
    "\n",
    "# evaluate the model on the dataset\n",
    "n_scores = cross_validate(model, X_imp_st_n, y, scoring=scoring, cv=cv, n_jobs=-1, return_train_score= False)\n",
    "\n",
    "to_add = []\n",
    "to_add.append(model)\n",
    "# report performance\n",
    "for key, value in n_scores.items():\n",
    "    to_add.append(mean(value))\n",
    "    #print(key, mean(value))\n",
    "\n",
    "metric_df = metric_df.append(pd.DataFrame(np.array(to_add).reshape(1,-1), columns=list(metric_df.columns)), ignore_index=True)"
   ]
  },
  {
   "cell_type": "code",
   "execution_count": 26,
   "metadata": {
    "id": "RNCzUdckZqD2"
   },
   "outputs": [],
   "source": [
    "from sklearn import svm\n",
    "\n",
    "# define the model\n",
    "model = svm.SVC()\n",
    "\n",
    "# define the evaluation method\n",
    "cv = RepeatedStratifiedKFold(n_splits=10, n_repeats=2, random_state=1)\n",
    "\n",
    "#scoring params\n",
    "scoring = {'acc': 'accuracy',\n",
    "           'recall': 'recall',\n",
    "           'auc': 'roc_auc',\n",
    "           'precison': 'precision',\n",
    "           'f1': 'f1'}\n",
    "\n",
    "# evaluate the model on the dataset\n",
    "n_scores = cross_validate(model, X_imp_st_n, y, scoring=scoring, cv=cv, n_jobs=-1, return_train_score= False)\n",
    "\n",
    "to_add = []\n",
    "to_add.append(model)\n",
    "# report performance\n",
    "for key, value in n_scores.items():\n",
    "    to_add.append(mean(value))\n",
    "    #print(key, mean(value))\n",
    "\n",
    "metric_df = metric_df.append(pd.DataFrame(np.array(to_add).reshape(1,-1), columns=list(metric_df.columns)), ignore_index=True)"
   ]
  },
  {
   "cell_type": "code",
   "execution_count": 27,
   "metadata": {
    "colab": {
     "base_uri": "https://localhost:8080/",
     "height": 297
    },
    "id": "JA-wuLSFZqNQ",
    "outputId": "98f091b9-1ec3-455c-85b0-3f41228cc081"
   },
   "outputs": [
    {
     "data": {
      "text/html": [
       "<div>\n",
       "<style scoped>\n",
       "    .dataframe tbody tr th:only-of-type {\n",
       "        vertical-align: middle;\n",
       "    }\n",
       "\n",
       "    .dataframe tbody tr th {\n",
       "        vertical-align: top;\n",
       "    }\n",
       "\n",
       "    .dataframe thead th {\n",
       "        text-align: right;\n",
       "    }\n",
       "</style>\n",
       "<table border=\"1\" class=\"dataframe\">\n",
       "  <thead>\n",
       "    <tr style=\"text-align: right;\">\n",
       "      <th></th>\n",
       "      <th>model</th>\n",
       "      <th>fit_time</th>\n",
       "      <th>score_time</th>\n",
       "      <th>acc</th>\n",
       "      <th>recall</th>\n",
       "      <th>auc</th>\n",
       "      <th>precision</th>\n",
       "      <th>f1</th>\n",
       "    </tr>\n",
       "  </thead>\n",
       "  <tbody>\n",
       "    <tr>\n",
       "      <th>4</th>\n",
       "      <td>BaggingClassifier(base_estimator=None, bootstr...</td>\n",
       "      <td>53.9268</td>\n",
       "      <td>0.227083</td>\n",
       "      <td>0.989074</td>\n",
       "      <td>0.572111</td>\n",
       "      <td>0.974671</td>\n",
       "      <td>0.790697</td>\n",
       "      <td>0.663074</td>\n",
       "    </tr>\n",
       "    <tr>\n",
       "      <th>3</th>\n",
       "      <td>RandomForestClassifier(bootstrap=True, ccp_alp...</td>\n",
       "      <td>11.3655</td>\n",
       "      <td>0.181801</td>\n",
       "      <td>0.988624</td>\n",
       "      <td>0.518997</td>\n",
       "      <td>0.979041</td>\n",
       "      <td>0.80846</td>\n",
       "      <td>0.631169</td>\n",
       "    </tr>\n",
       "    <tr>\n",
       "      <th>0</th>\n",
       "      <td>XGBClassifier(base_score=0.5, booster='gbtree'...</td>\n",
       "      <td>5.36711</td>\n",
       "      <td>0.0616729</td>\n",
       "      <td>0.987988</td>\n",
       "      <td>0.49019</td>\n",
       "      <td>0.98663</td>\n",
       "      <td>0.793185</td>\n",
       "      <td>0.605054</td>\n",
       "    </tr>\n",
       "    <tr>\n",
       "      <th>2</th>\n",
       "      <td>GradientBoostingClassifier(ccp_alpha=0.0, crit...</td>\n",
       "      <td>20.335</td>\n",
       "      <td>0.0505323</td>\n",
       "      <td>0.987701</td>\n",
       "      <td>0.513262</td>\n",
       "      <td>0.985219</td>\n",
       "      <td>0.75599</td>\n",
       "      <td>0.610766</td>\n",
       "    </tr>\n",
       "    <tr>\n",
       "      <th>7</th>\n",
       "      <td>SVC(C=1.0, break_ties=False, cache_size=200, c...</td>\n",
       "      <td>19.3094</td>\n",
       "      <td>3.02016</td>\n",
       "      <td>0.987435</td>\n",
       "      <td>0.451497</td>\n",
       "      <td>0.936694</td>\n",
       "      <td>0.792384</td>\n",
       "      <td>0.574306</td>\n",
       "    </tr>\n",
       "    <tr>\n",
       "      <th>1</th>\n",
       "      <td>AdaBoostClassifier(algorithm='SAMME.R', base_e...</td>\n",
       "      <td>8.95307</td>\n",
       "      <td>0.290164</td>\n",
       "      <td>0.98642</td>\n",
       "      <td>0.542113</td>\n",
       "      <td>0.986843</td>\n",
       "      <td>0.673708</td>\n",
       "      <td>0.600228</td>\n",
       "    </tr>\n",
       "    <tr>\n",
       "      <th>5</th>\n",
       "      <td>LogisticRegression(C=1.0, class_weight=None, d...</td>\n",
       "      <td>1.33829</td>\n",
       "      <td>0.0339713</td>\n",
       "      <td>0.985758</td>\n",
       "      <td>0.427566</td>\n",
       "      <td>0.979049</td>\n",
       "      <td>0.699479</td>\n",
       "      <td>0.529806</td>\n",
       "    </tr>\n",
       "    <tr>\n",
       "      <th>6</th>\n",
       "      <td>GaussianNB(priors=None, var_smoothing=1e-09)</td>\n",
       "      <td>0.0553623</td>\n",
       "      <td>0.0429814</td>\n",
       "      <td>0.9295</td>\n",
       "      <td>0.849683</td>\n",
       "      <td>0.95351</td>\n",
       "      <td>0.191201</td>\n",
       "      <td>0.312133</td>\n",
       "    </tr>\n",
       "  </tbody>\n",
       "</table>\n",
       "</div>"
      ],
      "text/plain": [
       "                                               model  ...        f1\n",
       "4  BaggingClassifier(base_estimator=None, bootstr...  ...  0.663074\n",
       "3  RandomForestClassifier(bootstrap=True, ccp_alp...  ...  0.631169\n",
       "0  XGBClassifier(base_score=0.5, booster='gbtree'...  ...  0.605054\n",
       "2  GradientBoostingClassifier(ccp_alpha=0.0, crit...  ...  0.610766\n",
       "7  SVC(C=1.0, break_ties=False, cache_size=200, c...  ...  0.574306\n",
       "1  AdaBoostClassifier(algorithm='SAMME.R', base_e...  ...  0.600228\n",
       "5  LogisticRegression(C=1.0, class_weight=None, d...  ...  0.529806\n",
       "6       GaussianNB(priors=None, var_smoothing=1e-09)  ...  0.312133\n",
       "\n",
       "[8 rows x 8 columns]"
      ]
     },
     "execution_count": 27,
     "metadata": {},
     "output_type": "execute_result"
    }
   ],
   "source": [
    "#Check model performances\n",
    "metric_df.sort_values(by = 'acc', ascending = False)"
   ]
  },
  {
   "cell_type": "code",
   "execution_count": 28,
   "metadata": {
    "id": "tIonBfKkjH1N"
   },
   "outputs": [],
   "source": [
    "X_train, X_test, y_train, y_test = train_test_split(X_imp_st_n, y, test_size=0.33, random_state=42)"
   ]
  },
  {
   "cell_type": "code",
   "execution_count": 29,
   "metadata": {
    "colab": {
     "base_uri": "https://localhost:8080/"
    },
    "id": "7aiUUGDIjfxZ",
    "outputId": "3af0c422-66ff-498b-8403-e885ed863fec"
   },
   "outputs": [
    {
     "name": "stdout",
     "output_type": "stream",
     "text": [
      "fit_time 7.114264523983001\n",
      "score_time 0.12924116849899292\n",
      "test_acc 0.9878807517822421\n",
      "test_recall 0.4965369879162983\n",
      "test_auc 0.9779464959531061\n",
      "test_precison 0.784056481594105\n",
      "test_f1 0.6068472730777099\n"
     ]
    }
   ],
   "source": [
    "# define the model\n",
    "model = RandomForestClassifier(n_estimators=50)\n",
    "\n",
    "# define the evaluation method\n",
    "cv = RepeatedStratifiedKFold(n_splits=10, n_repeats=2, random_state=1)\n",
    "\n",
    "#scoring params\n",
    "scoring = {'acc': 'accuracy',\n",
    "           'recall': 'recall',\n",
    "           'auc': 'roc_auc',\n",
    "           'precison': 'precision',\n",
    "           'f1': 'f1'}\n",
    "\n",
    "# evaluate the model on the dataset\n",
    "n_scores = cross_validate(model, X_train, y_train, scoring=scoring, cv=cv, n_jobs=-1, return_train_score= False)\n",
    "\n",
    "# report performance\n",
    "for key, value in n_scores.items():\n",
    "    print(key, mean(value))"
   ]
  },
  {
   "cell_type": "code",
   "execution_count": 31,
   "metadata": {
    "colab": {
     "base_uri": "https://localhost:8080/"
    },
    "id": "dVABpvmyjz1R",
    "outputId": "251a3a7b-34e1-4768-e41b-04da52af91b6"
   },
   "outputs": [
    {
     "name": "stdout",
     "output_type": "stream",
     "text": [
      "0.7501207971275645\n"
     ]
    }
   ],
   "source": [
    "m = model.fit(X_train, y_train)\n",
    "y_pred = m.predict(X_test)\n",
    "print(roc_auc_score(y_test,y_pred))"
   ]
  },
  {
   "cell_type": "code",
   "execution_count": 32,
   "metadata": {
    "id": "q6HDebRAlcLb"
   },
   "outputs": [],
   "source": [
    "ns_fpr, ns_tpr, _ = roc_curve(y_test,y_pred)"
   ]
  },
  {
   "cell_type": "code",
   "execution_count": 33,
   "metadata": {
    "colab": {
     "base_uri": "https://localhost:8080/",
     "height": 296
    },
    "id": "zaxTNRFjlygU",
    "outputId": "c196d164-971a-48a0-dc2f-9a2023ed1baa"
   },
   "outputs": [
    {
     "name": "stderr",
     "output_type": "stream",
     "text": [
      "No handles with labels found to put in legend.\n"
     ]
    },
    {
     "data": {
      "image/png": "[encoded data removed]",
      "text/plain": [
       "<Figure size 432x288 with 1 Axes>"
      ]
     },
     "metadata": {
      "needs_background": "light"
     },
     "output_type": "display_data"
    }
   ],
   "source": [
    "# plot the roc curve for the model\n",
    "plt.plot(ns_fpr, ns_tpr, linestyle='--')\n",
    "plt.plot([0, 1], ls=\"--\")\n",
    "# axis labels\n",
    "plt.xlabel('False Positive Rate')\n",
    "plt.ylabel('True Positive Rate')\n",
    "# show the legend\n",
    "plt.legend()\n",
    "# show the plot\n",
    "plt.show()"
   ]
  },
  {
   "cell_type": "code",
   "execution_count": 34,
   "metadata": {
    "colab": {
     "base_uri": "https://localhost:8080/"
    },
    "id": "zisuKvSFmdxu",
    "outputId": "43d1f48e-3372-4786-9039-addbbe73e1f8"
   },
   "outputs": [
    {
     "data": {
      "text/plain": [
       "array([[29763,    72],\n",
       "       [  281,   284]])"
      ]
     },
     "execution_count": 34,
     "metadata": {},
     "output_type": "execute_result"
    }
   ],
   "source": [
    "confusion_matrix(y_test, y_pred)"
   ]
  },
  {
   "cell_type": "code",
   "execution_count": null,
   "metadata": {
    "id": "Ha_Mro9NVjPj"
   },
   "outputs": [],
   "source": [
    "##DIFFERENT ENCODING"
   ]
  },
  {
   "cell_type": "code",
   "execution_count": 35,
   "metadata": {
    "id": "B7lQ4Ac2VjsG"
   },
   "outputs": [],
   "source": [
    "#Create metric df to save model results\n",
    "encoding_metric_df = pd.DataFrame(columns=['encoder','fit_time','score_time', 'acc', 'recall', 'auc', 'precision', 'f1'])"
   ]
  },
  {
   "cell_type": "code",
   "execution_count": 36,
   "metadata": {
    "id": "vx9DX_bdVj8G"
   },
   "outputs": [],
   "source": [
    "#Encoding the categorival variables using target encoding\n",
    "cbe_encoder = ce.cat_boost.CatBoostEncoder()\n",
    "X_imp = cbe_encoder.fit_transform(X,y)\n",
    "\n",
    "#Standardization \n",
    "scaler = StandardScaler()\n",
    "X_imp_st = scaler.fit_transform(X_imp)\n",
    "X_imp_st = pd.DataFrame(data = X_imp_st, columns=X_imp.columns)\n",
    "\n",
    "#Normalization\n",
    "transformer = MinMaxScaler()\n",
    "X_imp_st_n = transformer.fit_transform(X_imp_st)\n",
    "X_imp_st_n = pd.DataFrame(data = X_imp_st_n, columns=X_imp_st.columns)\n",
    "\n",
    "# define the model\n",
    "model = RandomForestClassifier(n_estimators=50)\n",
    "\n",
    "# define the evaluation method\n",
    "cv = RepeatedStratifiedKFold(n_splits=10, n_repeats=2, random_state=1)\n",
    "\n",
    "#scoring params\n",
    "scoring = {'acc': 'accuracy',\n",
    "           'recall': 'recall',\n",
    "           'auc': 'roc_auc',\n",
    "           'precison': 'precision',\n",
    "           'f1': 'f1'}\n",
    "\n",
    "# evaluate the model on the dataset\n",
    "n_scores = cross_validate(model, X_imp_st_n, y, scoring=scoring, cv=cv, n_jobs=-1, return_train_score= False)\n",
    "\n",
    "to_add = []\n",
    "to_add.append(cbe_encoder)\n",
    "# report performance\n",
    "for key, value in n_scores.items():\n",
    "    to_add.append(mean(value))\n",
    "    #print(key, mean(value))\n",
    "\n",
    "encoding_metric_df = encoding_metric_df.append(pd.DataFrame(np.array(to_add).reshape(1,-1), columns=list(encoding_metric_df.columns)), ignore_index=True)"
   ]
  },
  {
   "cell_type": "code",
   "execution_count": 37,
   "metadata": {
    "id": "DgbwfLDMVkIY"
   },
   "outputs": [],
   "source": [
    "#Encoding the categorival variables using target encoding\n",
    "cbe_encoder = ce.MEstimateEncoder()\n",
    "X_imp = cbe_encoder.fit_transform(X,y)\n",
    "\n",
    "#Standardization \n",
    "scaler = StandardScaler()\n",
    "X_imp_st = scaler.fit_transform(X_imp)\n",
    "X_imp_st = pd.DataFrame(data = X_imp_st, columns=X_imp.columns)\n",
    "\n",
    "#Normalization\n",
    "transformer = MinMaxScaler()\n",
    "X_imp_st_n = transformer.fit_transform(X_imp_st)\n",
    "X_imp_st_n = pd.DataFrame(data = X_imp_st_n, columns=X_imp_st.columns)\n",
    "\n",
    "# define the model\n",
    "model = RandomForestClassifier(n_estimators=50)\n",
    "\n",
    "# define the evaluation method\n",
    "cv = RepeatedStratifiedKFold(n_splits=10, n_repeats=2, random_state=1)\n",
    "\n",
    "#scoring params\n",
    "scoring = {'acc': 'accuracy',\n",
    "           'recall': 'recall',\n",
    "           'auc': 'roc_auc',\n",
    "           'precison': 'precision',\n",
    "           'f1': 'f1'}\n",
    "\n",
    "# evaluate the model on the dataset\n",
    "n_scores = cross_validate(model, X_imp_st_n, y, scoring=scoring, cv=cv, n_jobs=-1, return_train_score= False)\n",
    "\n",
    "to_add = []\n",
    "to_add.append(cbe_encoder)\n",
    "# report performance\n",
    "for key, value in n_scores.items():\n",
    "    to_add.append(mean(value))\n",
    "    #print(key, mean(value))\n",
    "\n",
    "encoding_metric_df = encoding_metric_df.append(pd.DataFrame(np.array(to_add).reshape(1,-1), columns=list(encoding_metric_df.columns)), ignore_index=True)"
   ]
  },
  {
   "cell_type": "code",
   "execution_count": 38,
   "metadata": {
    "id": "ZsGishTjX4HX"
   },
   "outputs": [],
   "source": [
    "#Encoding the categorival variables using target encoding\n",
    "cbe_encoder = ce.JamesSteinEncoder()\n",
    "X_imp = cbe_encoder.fit_transform(X,y)\n",
    "\n",
    "#Standardization \n",
    "scaler = StandardScaler()\n",
    "X_imp_st = scaler.fit_transform(X_imp)\n",
    "X_imp_st = pd.DataFrame(data = X_imp_st, columns=X_imp.columns)\n",
    "\n",
    "#Normalization\n",
    "transformer = MinMaxScaler()\n",
    "X_imp_st_n = transformer.fit_transform(X_imp_st)\n",
    "X_imp_st_n = pd.DataFrame(data = X_imp_st_n, columns=X_imp_st.columns)\n",
    "\n",
    "# define the model\n",
    "model = RandomForestClassifier(n_estimators=50)\n",
    "\n",
    "# define the evaluation method\n",
    "cv = RepeatedStratifiedKFold(n_splits=10, n_repeats=2, random_state=1)\n",
    "\n",
    "#scoring params\n",
    "scoring = {'acc': 'accuracy',\n",
    "           'recall': 'recall',\n",
    "           'auc': 'roc_auc',\n",
    "           'precison': 'precision',\n",
    "           'f1': 'f1'}\n",
    "\n",
    "# evaluate the model on the dataset\n",
    "n_scores = cross_validate(model, X_imp_st_n, y, scoring=scoring, cv=cv, n_jobs=-1, return_train_score= False)\n",
    "\n",
    "to_add = []\n",
    "to_add.append(cbe_encoder)\n",
    "# report performance\n",
    "for key, value in n_scores.items():\n",
    "    to_add.append(mean(value))\n",
    "    #print(key, mean(value))\n",
    "\n",
    "encoding_metric_df = encoding_metric_df.append(pd.DataFrame(np.array(to_add).reshape(1,-1), columns=list(encoding_metric_df.columns)), ignore_index=True)"
   ]
  },
  {
   "cell_type": "code",
   "execution_count": 39,
   "metadata": {
    "id": "QW_dAaMWX_uf"
   },
   "outputs": [],
   "source": [
    "#Encoding the categorival variables using target encoding\n",
    "cbe_encoder = ce.CountEncoder()\n",
    "X_imp = cbe_encoder.fit_transform(X, y)\n",
    "\n",
    "#Standardization \n",
    "scaler = StandardScaler()\n",
    "X_imp_st = scaler.fit_transform(X_imp)\n",
    "X_imp_st = pd.DataFrame(data = X_imp_st, columns=X_imp.columns)\n",
    "\n",
    "#Normalization\n",
    "transformer = MinMaxScaler()\n",
    "X_imp_st_n = transformer.fit_transform(X_imp_st)\n",
    "X_imp_st_n = pd.DataFrame(data = X_imp_st_n, columns=X_imp_st.columns)\n",
    "\n",
    "# define the model\n",
    "model = RandomForestClassifier(n_estimators=50)\n",
    "\n",
    "# define the evaluation method\n",
    "cv = RepeatedStratifiedKFold(n_splits=10, n_repeats=2, random_state=1)\n",
    "\n",
    "#scoring params\n",
    "scoring = {'acc': 'accuracy',\n",
    "           'recall': 'recall',\n",
    "           'auc': 'roc_auc',\n",
    "           'precison': 'precision',\n",
    "           'f1': 'f1'}\n",
    "\n",
    "# evaluate the model on the dataset\n",
    "n_scores = cross_validate(model, X_imp_st_n, y, scoring=scoring, cv=cv, n_jobs=-1, return_train_score= False)\n",
    "\n",
    "to_add = []\n",
    "to_add.append(cbe_encoder)\n",
    "# report performance\n",
    "for key, value in n_scores.items():\n",
    "    to_add.append(mean(value))\n",
    "    #print(key, mean(value))\n",
    "\n",
    "encoding_metric_df = encoding_metric_df.append(pd.DataFrame(np.array(to_add).reshape(1,-1), columns=list(encoding_metric_df.columns)), ignore_index=True)"
   ]
  },
  {
   "cell_type": "code",
   "execution_count": 40,
   "metadata": {
    "colab": {
     "base_uri": "https://localhost:8080/",
     "height": 173
    },
    "id": "RmKwqQ8tax24",
    "outputId": "1b622d90-3f85-4cd5-ac63-2b1898435756"
   },
   "outputs": [
    {
     "data": {
      "text/html": [
       "<div>\n",
       "<style scoped>\n",
       "    .dataframe tbody tr th:only-of-type {\n",
       "        vertical-align: middle;\n",
       "    }\n",
       "\n",
       "    .dataframe tbody tr th {\n",
       "        vertical-align: top;\n",
       "    }\n",
       "\n",
       "    .dataframe thead th {\n",
       "        text-align: right;\n",
       "    }\n",
       "</style>\n",
       "<table border=\"1\" class=\"dataframe\">\n",
       "  <thead>\n",
       "    <tr style=\"text-align: right;\">\n",
       "      <th></th>\n",
       "      <th>encoder</th>\n",
       "      <th>fit_time</th>\n",
       "      <th>score_time</th>\n",
       "      <th>acc</th>\n",
       "      <th>recall</th>\n",
       "      <th>auc</th>\n",
       "      <th>precision</th>\n",
       "      <th>f1</th>\n",
       "    </tr>\n",
       "  </thead>\n",
       "  <tbody>\n",
       "    <tr>\n",
       "      <th>0</th>\n",
       "      <td>CatBoostEncoder(a=1, cols=['Country', 'League'...</td>\n",
       "      <td>11.5361</td>\n",
       "      <td>0.183084</td>\n",
       "      <td>0.988515</td>\n",
       "      <td>0.51556</td>\n",
       "      <td>0.978585</td>\n",
       "      <td>0.80389</td>\n",
       "      <td>0.627509</td>\n",
       "    </tr>\n",
       "    <tr>\n",
       "      <th>2</th>\n",
       "      <td>JamesSteinEncoder(cols=['Country', 'League', '...</td>\n",
       "      <td>7.79593</td>\n",
       "      <td>0.199408</td>\n",
       "      <td>0.988439</td>\n",
       "      <td>0.512094</td>\n",
       "      <td>0.978851</td>\n",
       "      <td>0.802791</td>\n",
       "      <td>0.624448</td>\n",
       "    </tr>\n",
       "    <tr>\n",
       "      <th>1</th>\n",
       "      <td>MEstimateEncoder(cols=['Country', 'League', 'P...</td>\n",
       "      <td>8.00419</td>\n",
       "      <td>0.202518</td>\n",
       "      <td>0.988401</td>\n",
       "      <td>0.516999</td>\n",
       "      <td>0.976383</td>\n",
       "      <td>0.795353</td>\n",
       "      <td>0.625934</td>\n",
       "    </tr>\n",
       "    <tr>\n",
       "      <th>3</th>\n",
       "      <td>CountEncoder(cols=['Country', 'League', 'Posit...</td>\n",
       "      <td>7.77793</td>\n",
       "      <td>0.201531</td>\n",
       "      <td>0.988146</td>\n",
       "      <td>0.502286</td>\n",
       "      <td>0.976912</td>\n",
       "      <td>0.791681</td>\n",
       "      <td>0.613859</td>\n",
       "    </tr>\n",
       "  </tbody>\n",
       "</table>\n",
       "</div>"
      ],
      "text/plain": [
       "                                             encoder  ...        f1\n",
       "0  CatBoostEncoder(a=1, cols=['Country', 'League'...  ...  0.627509\n",
       "2  JamesSteinEncoder(cols=['Country', 'League', '...  ...  0.624448\n",
       "1  MEstimateEncoder(cols=['Country', 'League', 'P...  ...  0.625934\n",
       "3  CountEncoder(cols=['Country', 'League', 'Posit...  ...  0.613859\n",
       "\n",
       "[4 rows x 8 columns]"
      ]
     },
     "execution_count": 40,
     "metadata": {},
     "output_type": "execute_result"
    }
   ],
   "source": [
    "encoding_metric_df.sort_values(by = 'acc', ascending = False)"
   ]
  },
  {
   "cell_type": "code",
   "execution_count": 45,
   "metadata": {
    "id": "FhH0R_h6D9YT"
   },
   "outputs": [],
   "source": [
    "#Encoding the categorival variables using target encoding\n",
    "cbe_encoder = ce.CatBoostEncoder()\n",
    "X_imp = cbe_encoder.fit_transform(X,y)\n",
    "\n",
    "#Standardization \n",
    "scaler = StandardScaler()\n",
    "X_imp_st = scaler.fit_transform(X_imp)\n",
    "X_imp_st = pd.DataFrame(data = X_imp_st, columns=X_imp.columns)\n",
    "\n",
    "#Normalization\n",
    "transformer = MinMaxScaler()\n",
    "X_imp_st_n = transformer.fit_transform(X_imp_st)\n",
    "X_imp_st_n = pd.DataFrame(data = X_imp_st_n, columns=X_imp_st.columns)"
   ]
  },
  {
   "cell_type": "code",
   "execution_count": null,
   "metadata": {
    "id": "w6u6sEWNFLQf"
   },
   "outputs": [],
   "source": [
    "#SMOTE"
   ]
  },
  {
   "cell_type": "code",
   "execution_count": 53,
   "metadata": {
    "id": "5lJga5oMFNpP"
   },
   "outputs": [],
   "source": [
    "#Create metric df to save model results\n",
    "smote_metric_df = pd.DataFrame(columns=['encoder','fit_time','score_time', 'acc', 'recall', 'auc', 'precision', 'f1'])"
   ]
  },
  {
   "cell_type": "code",
   "execution_count": 54,
   "metadata": {
    "colab": {
     "base_uri": "https://localhost:8080/"
    },
    "id": "ygcuAPj2FN08",
    "outputId": "ad0a0c3c-9159-4b47-ddfb-8973070aae2f"
   },
   "outputs": [
    {
     "name": "stderr",
     "output_type": "stream",
     "text": [
      "/usr/local/lib/python3.7/dist-packages/sklearn/utils/deprecation.py:87: FutureWarning: Function safe_indexing is deprecated; safe_indexing is deprecated in version 0.22 and will be removed in version 0.24.\n",
      "  warnings.warn(msg, category=FutureWarning)\n",
      "/usr/local/lib/python3.7/dist-packages/sklearn/utils/deprecation.py:87: FutureWarning: Function safe_indexing is deprecated; safe_indexing is deprecated in version 0.22 and will be removed in version 0.24.\n",
      "  warnings.warn(msg, category=FutureWarning)\n",
      "/usr/local/lib/python3.7/dist-packages/sklearn/utils/deprecation.py:87: FutureWarning: Function safe_indexing is deprecated; safe_indexing is deprecated in version 0.22 and will be removed in version 0.24.\n",
      "  warnings.warn(msg, category=FutureWarning)\n",
      "/usr/local/lib/python3.7/dist-packages/sklearn/utils/deprecation.py:87: FutureWarning: Function safe_indexing is deprecated; safe_indexing is deprecated in version 0.22 and will be removed in version 0.24.\n",
      "  warnings.warn(msg, category=FutureWarning)\n",
      "/usr/local/lib/python3.7/dist-packages/sklearn/utils/deprecation.py:87: FutureWarning: Function safe_indexing is deprecated; safe_indexing is deprecated in version 0.22 and will be removed in version 0.24.\n",
      "  warnings.warn(msg, category=FutureWarning)\n",
      "/usr/local/lib/python3.7/dist-packages/sklearn/utils/deprecation.py:87: FutureWarning: Function safe_indexing is deprecated; safe_indexing is deprecated in version 0.22 and will be removed in version 0.24.\n",
      "  warnings.warn(msg, category=FutureWarning)\n"
     ]
    }
   ],
   "source": [
    "# define the model\n",
    "model = RandomForestClassifier(n_estimators=50)\n",
    "\n",
    "#overfit the target label\n",
    "over = SVMSMOTE(sampling_strategy=0.15)\n",
    "X_res, y_res = over.fit_resample(X_imp_st_n, y)\n",
    "\n",
    "# define the evaluation method\n",
    "cv = RepeatedStratifiedKFold(n_splits=10, n_repeats=2, random_state=1)\n",
    "\n",
    "#scoring params\n",
    "scoring = {'acc': 'accuracy',\n",
    "           'recall': 'recall',\n",
    "           'auc': 'roc_auc',\n",
    "           'precison': 'precision',\n",
    "           'f1': 'f1'}\n",
    "\n",
    "# evaluate the model on the dataset\n",
    "n_scores = cross_validate(model, X_res, y_res, scoring=scoring, cv=cv, n_jobs=-1, return_train_score= False)\n",
    "\n",
    "to_add = []\n",
    "to_add.append(over)\n",
    "# report performance\n",
    "for key, value in n_scores.items():\n",
    "    to_add.append(mean(value))\n",
    "    #print(key, mean(value))\n",
    "\n",
    "smote_metric_df = smote_metric_df.append(pd.DataFrame(np.array(to_add).reshape(1,-1), columns=list(smote_metric_df.columns)), ignore_index=True)"
   ]
  },
  {
   "cell_type": "code",
   "execution_count": 55,
   "metadata": {
    "colab": {
     "base_uri": "https://localhost:8080/"
    },
    "id": "qyBlUInRFN-e",
    "outputId": "eab148ba-97cc-46ed-acab-67593f0b8a98"
   },
   "outputs": [
    {
     "name": "stderr",
     "output_type": "stream",
     "text": [
      "/usr/local/lib/python3.7/dist-packages/sklearn/utils/deprecation.py:87: FutureWarning: Function safe_indexing is deprecated; safe_indexing is deprecated in version 0.22 and will be removed in version 0.24.\n",
      "  warnings.warn(msg, category=FutureWarning)\n",
      "/usr/local/lib/python3.7/dist-packages/sklearn/utils/deprecation.py:87: FutureWarning: Function safe_indexing is deprecated; safe_indexing is deprecated in version 0.22 and will be removed in version 0.24.\n",
      "  warnings.warn(msg, category=FutureWarning)\n",
      "/usr/local/lib/python3.7/dist-packages/sklearn/utils/deprecation.py:87: FutureWarning: Function safe_indexing is deprecated; safe_indexing is deprecated in version 0.22 and will be removed in version 0.24.\n",
      "  warnings.warn(msg, category=FutureWarning)\n"
     ]
    }
   ],
   "source": [
    "# define the model\n",
    "model = RandomForestClassifier(n_estimators=50)\n",
    "\n",
    "#overfit the target label\n",
    "over = BorderlineSMOTE(sampling_strategy=0.15)\n",
    "X_res, y_res = over.fit_resample(X_imp_st_n, y)\n",
    "\n",
    "# define the evaluation method\n",
    "cv = RepeatedStratifiedKFold(n_splits=10, n_repeats=2, random_state=1)\n",
    "\n",
    "#scoring params\n",
    "scoring = {'acc': 'accuracy',\n",
    "           'recall': 'recall',\n",
    "           'auc': 'roc_auc',\n",
    "           'precison': 'precision',\n",
    "           'f1': 'f1'}\n",
    "\n",
    "# evaluate the model on the dataset\n",
    "n_scores = cross_validate(model, X_res, y_res, scoring=scoring, cv=cv, n_jobs=-1, return_train_score= False)\n",
    "\n",
    "to_add = []\n",
    "to_add.append(over)\n",
    "# report performance\n",
    "for key, value in n_scores.items():\n",
    "    to_add.append(mean(value))\n",
    "    #print(key, mean(value))\n",
    "\n",
    "smote_metric_df = smote_metric_df.append(pd.DataFrame(np.array(to_add).reshape(1,-1), columns=list(smote_metric_df.columns)), ignore_index=True)"
   ]
  },
  {
   "cell_type": "code",
   "execution_count": 56,
   "metadata": {
    "colab": {
     "base_uri": "https://localhost:8080/"
    },
    "id": "djxoPJyUFOLE",
    "outputId": "b116f69e-30df-4138-bc20-3211b57fcb52"
   },
   "outputs": [
    {
     "name": "stderr",
     "output_type": "stream",
     "text": [
      "/usr/local/lib/python3.7/dist-packages/sklearn/utils/deprecation.py:87: FutureWarning: Function safe_indexing is deprecated; safe_indexing is deprecated in version 0.22 and will be removed in version 0.24.\n",
      "  warnings.warn(msg, category=FutureWarning)\n"
     ]
    }
   ],
   "source": [
    "# define the model\n",
    "model = RandomForestClassifier(n_estimators=50)\n",
    "\n",
    "#overfit the target label\n",
    "over = ADASYN(sampling_strategy=0.15)\n",
    "X_res, y_res = over.fit_resample(X_imp_st_n, y)\n",
    "\n",
    "# define the evaluation method\n",
    "cv = RepeatedStratifiedKFold(n_splits=10, n_repeats=2, random_state=1)\n",
    "\n",
    "#scoring params\n",
    "scoring = {'acc': 'accuracy',\n",
    "           'recall': 'recall',\n",
    "           'auc': 'roc_auc',\n",
    "           'precison': 'precision',\n",
    "           'f1': 'f1'}\n",
    "\n",
    "# evaluate the model on the dataset\n",
    "n_scores = cross_validate(model, X_res, y_res, scoring=scoring, cv=cv, n_jobs=-1, return_train_score= False)\n",
    "\n",
    "to_add = []\n",
    "to_add.append(over)\n",
    "# report performance\n",
    "for key, value in n_scores.items():\n",
    "    to_add.append(mean(value))\n",
    "    #print(key, mean(value))\n",
    "\n",
    "smote_metric_df = smote_metric_df.append(pd.DataFrame(np.array(to_add).reshape(1,-1), columns=list(smote_metric_df.columns)), ignore_index=True)"
   ]
  },
  {
   "cell_type": "code",
   "execution_count": 58,
   "metadata": {
    "colab": {
     "base_uri": "https://localhost:8080/",
     "height": 142
    },
    "id": "cvD-d92PFOVl",
    "outputId": "b12f15e7-1710-45a1-92cb-f56346e6707e"
   },
   "outputs": [
    {
     "data": {
      "text/html": [
       "<div>\n",
       "<style scoped>\n",
       "    .dataframe tbody tr th:only-of-type {\n",
       "        vertical-align: middle;\n",
       "    }\n",
       "\n",
       "    .dataframe tbody tr th {\n",
       "        vertical-align: top;\n",
       "    }\n",
       "\n",
       "    .dataframe thead th {\n",
       "        text-align: right;\n",
       "    }\n",
       "</style>\n",
       "<table border=\"1\" class=\"dataframe\">\n",
       "  <thead>\n",
       "    <tr style=\"text-align: right;\">\n",
       "      <th></th>\n",
       "      <th>encoder</th>\n",
       "      <th>fit_time</th>\n",
       "      <th>score_time</th>\n",
       "      <th>acc</th>\n",
       "      <th>recall</th>\n",
       "      <th>auc</th>\n",
       "      <th>precision</th>\n",
       "      <th>f1</th>\n",
       "    </tr>\n",
       "  </thead>\n",
       "  <tbody>\n",
       "    <tr>\n",
       "      <th>1</th>\n",
       "      <td>BorderlineSMOTE(k_neighbors=5, kind='borderlin...</td>\n",
       "      <td>14.2003</td>\n",
       "      <td>0.211719</td>\n",
       "      <td>0.990206</td>\n",
       "      <td>0.977651</td>\n",
       "      <td>0.998266</td>\n",
       "      <td>0.948851</td>\n",
       "      <td>0.963026</td>\n",
       "    </tr>\n",
       "    <tr>\n",
       "      <th>2</th>\n",
       "      <td>ADASYN(n_jobs=1, n_neighbors=5, random_state=N...</td>\n",
       "      <td>13.3596</td>\n",
       "      <td>0.216777</td>\n",
       "      <td>0.990122</td>\n",
       "      <td>0.984028</td>\n",
       "      <td>0.999211</td>\n",
       "      <td>0.943315</td>\n",
       "      <td>0.963225</td>\n",
       "    </tr>\n",
       "    <tr>\n",
       "      <th>0</th>\n",
       "      <td>SVMSMOTE(k_neighbors=5, m_neighbors=10, n_jobs...</td>\n",
       "      <td>15.7833</td>\n",
       "      <td>0.220576</td>\n",
       "      <td>0.990115</td>\n",
       "      <td>0.976655</td>\n",
       "      <td>0.997907</td>\n",
       "      <td>0.949074</td>\n",
       "      <td>0.962656</td>\n",
       "    </tr>\n",
       "  </tbody>\n",
       "</table>\n",
       "</div>"
      ],
      "text/plain": [
       "                                             encoder  ...        f1\n",
       "1  BorderlineSMOTE(k_neighbors=5, kind='borderlin...  ...  0.963026\n",
       "2  ADASYN(n_jobs=1, n_neighbors=5, random_state=N...  ...  0.963225\n",
       "0  SVMSMOTE(k_neighbors=5, m_neighbors=10, n_jobs...  ...  0.962656\n",
       "\n",
       "[3 rows x 8 columns]"
      ]
     },
     "execution_count": 58,
     "metadata": {},
     "output_type": "execute_result"
    }
   ],
   "source": [
    "smote_metric_df.sort_values(by = 'acc', ascending = False)"
   ]
  },
  {
   "cell_type": "code",
   "execution_count": 14,
   "metadata": {
    "colab": {
     "base_uri": "https://localhost:8080/"
    },
    "id": "IbzsohYMFOhA",
    "outputId": "4f5e68a6-3bed-436b-a175-bda08f657d82"
   },
   "outputs": [
    {
     "name": "stderr",
     "output_type": "stream",
     "text": [
      "/usr/local/lib/python3.7/dist-packages/sklearn/utils/deprecation.py:87: FutureWarning: Function safe_indexing is deprecated; safe_indexing is deprecated in version 0.22 and will be removed in version 0.24.\n",
      "  warnings.warn(msg, category=FutureWarning)\n",
      "/usr/local/lib/python3.7/dist-packages/sklearn/utils/deprecation.py:87: FutureWarning: Function safe_indexing is deprecated; safe_indexing is deprecated in version 0.22 and will be removed in version 0.24.\n",
      "  warnings.warn(msg, category=FutureWarning)\n",
      "/usr/local/lib/python3.7/dist-packages/sklearn/utils/deprecation.py:87: FutureWarning: Function safe_indexing is deprecated; safe_indexing is deprecated in version 0.22 and will be removed in version 0.24.\n",
      "  warnings.warn(msg, category=FutureWarning)\n"
     ]
    }
   ],
   "source": [
    "X_train, X_test, y_train, y_test = train_test_split(X_imp_st_n, y, test_size=0.33, random_state=42)\n",
    "over = BorderlineSMOTE(sampling_strategy=0.3)\n",
    "X_res, y_res = over.fit_resample(X_train, y_train)\n"
   ]
  },
  {
   "cell_type": "code",
   "execution_count": 72,
   "metadata": {
    "colab": {
     "base_uri": "https://localhost:8080/"
    },
    "id": "wMtdvUXIIR1P",
    "outputId": "5245dd2f-85e6-4636-e6c1-b54efa7a8ad4"
   },
   "outputs": [
    {
     "name": "stdout",
     "output_type": "stream",
     "text": [
      "0.8435308651862531\n"
     ]
    }
   ],
   "source": [
    "m = model.fit(X_res, y_res)\n",
    "y_pred = m.predict(X_test)\n",
    "print(roc_auc_score(y_test,y_pred))"
   ]
  },
  {
   "cell_type": "code",
   "execution_count": 15,
   "metadata": {
    "colab": {
     "base_uri": "https://localhost:8080/"
    },
    "id": "CTlkQ1doISWx",
    "outputId": "17f325c6-1713-49de-8fd5-fc015a8685f0"
   },
   "outputs": [
    {
     "name": "stdout",
     "output_type": "stream",
     "text": [
      "0.8503423697593401\n"
     ]
    }
   ],
   "source": [
    "model = RandomForestClassifier(n_estimators=500)\n",
    "m = model.fit(X_res, y_res)\n",
    "y_pred = m.predict(X_test)\n",
    "print(roc_auc_score(y_test,y_pred))"
   ]
  },
  {
   "cell_type": "code",
   "execution_count": 16,
   "metadata": {
    "colab": {
     "base_uri": "https://localhost:8080/"
    },
    "id": "Zv0g2exoITAS",
    "outputId": "f764df79-d6f9-4437-9e89-00f961cdfade"
   },
   "outputs": [
    {
     "name": "stdout",
     "output_type": "stream",
     "text": [
      "0.8519949693817471\n"
     ]
    }
   ],
   "source": [
    "model = RandomForestClassifier(n_estimators=500, max_samples=0.9)\n",
    "m = model.fit(X_res, y_res)\n",
    "y_pred = m.predict(X_test)\n",
    "print(roc_auc_score(y_test,y_pred))"
   ]
  },
  {
   "cell_type": "code",
   "execution_count": 18,
   "metadata": {
    "colab": {
     "base_uri": "https://localhost:8080/"
    },
    "id": "jAl2xvkF3Y3t",
    "outputId": "bfbb2dcb-be7a-4986-fc80-faf888870ecb"
   },
   "outputs": [
    {
     "data": {
      "text/plain": [
       "{'Country': 0.017643685614252957,\n",
       " 'DEGREE': 0.019571898724191926,\n",
       " 'Division': 0.0036091637149077284,\n",
       " 'Eigv': 0.01991139444976875,\n",
       " 'IsNational': 0.014840463150467989,\n",
       " 'League': 0.03044896610280479,\n",
       " 'National_teammates': 0.03249464828773991,\n",
       " 'Position': 0.013604777568955626,\n",
       " 'Skill1': 0.07929100222141357,\n",
       " 'Skill2': 0.07448695554453033,\n",
       " 'Skill3': 0.04123642641405295,\n",
       " 'Skill4': 0.05262557755144457,\n",
       " 'Skill5': 0.04318799130718434,\n",
       " 'TOTS_teammates': 0.4618811221168824,\n",
       " 'Value': 0.09516592723140214}"
      ]
     },
     "execution_count": 18,
     "metadata": {},
     "output_type": "execute_result"
    }
   ],
   "source": [
    "zip_iterator = zip(list(X_imp_st_n.columns), m.feature_importances_)\n",
    "feature_dict = dict(zip_iterator)\n",
    "dict( sorted(feature_dict.items(), key=operator.itemgetter(1),reverse=True))"
   ]
  },
  {
   "cell_type": "code",
   "execution_count": 19,
   "metadata": {
    "id": "E9FHtbqB3jEx"
   },
   "outputs": [],
   "source": [
    "data['KPI_IsTOTS'] = X_imp_st_n[list(feature_dict.items())[0][0]] * list(feature_dict.items())[0][1] + \\\n",
    "    X_imp_st_n[list(feature_dict.items())[1][0]] * list(feature_dict.items())[1][1] + \\\n",
    "    X_imp_st_n[list(feature_dict.items())[2][0]] * list(feature_dict.items())[2][1] + \\\n",
    "    X_imp_st_n[list(feature_dict.items())[3][0]] * list(feature_dict.items())[3][1] + \\\n",
    "    X_imp_st_n[list(feature_dict.items())[4][0]] * list(feature_dict.items())[4][1] + \\\n",
    "    X_imp_st_n[list(feature_dict.items())[5][0]] * list(feature_dict.items())[5][1] + \\\n",
    "    X_imp_st_n[list(feature_dict.items())[6][0]] * list(feature_dict.items())[6][1] + \\\n",
    "    X_imp_st_n[list(feature_dict.items())[7][0]] * list(feature_dict.items())[7][1] + \\\n",
    "    X_imp_st_n[list(feature_dict.items())[8][0]] * list(feature_dict.items())[8][1] + \\\n",
    "    X_imp_st_n[list(feature_dict.items())[9][0]] * list(feature_dict.items())[9][1] + \\\n",
    "    X_imp_st_n[list(feature_dict.items())[10][0]] * list(feature_dict.items())[10][1] + \\\n",
    "    X_imp_st_n[list(feature_dict.items())[11][0]] * list(feature_dict.items())[11][1] + \\\n",
    "    X_imp_st_n[list(feature_dict.items())[12][0]] * list(feature_dict.items())[12][1] + \\\n",
    "    X_imp_st_n[list(feature_dict.items())[13][0]] * list(feature_dict.items())[13][1] + \\\n",
    "    X_imp_st_n[list(feature_dict.items())[14][0]] * list(feature_dict.items())[14][1]\n"
   ]
  },
  {
   "cell_type": "code",
   "execution_count": 20,
   "metadata": {
    "id": "ZAQ_sZB83r1F"
   },
   "outputs": [],
   "source": [
    "data.to_excel('data-2.xlsx')"
   ]
  }
 ],
 "metadata": {
  "accelerator": "GPU",
  "colab": {
   "collapsed_sections": [],
   "name": "TOTS_model",
   "provenance": []
  },
  "kernelspec": {
   "display_name": "Python 3 (ipykernel)",
   "language": "python",
   "name": "python3"
  },
  "language_info": {
   "codemirror_mode": {
    "name": "ipython",
    "version": 3
   },
   "file_extension": ".py",
   "mimetype": "text/x-python",
   "name": "python",
   "nbconvert_exporter": "python",
   "pygments_lexer": "ipython3",
   "version": "3.9.7"
  }
 },
 "nbformat": 4,
 "nbformat_minor": 1
}
